{
 "cells": [
  {
   "cell_type": "code",
   "execution_count": 288,
   "metadata": {},
   "outputs": [],
   "source": [
    "import pandas as pd\n",
    "import string\n",
    "import secrets\n",
    "import requests\n",
    "import random\n",
    "import json"
   ]
  },
  {
   "cell_type": "markdown",
   "metadata": {},
   "source": [
    "### Description of the project\n",
    "1. Do this\n",
    "2. Then that\n",
    "3. in order to get\n",
    "4. Results"
   ]
  },
  {
   "cell_type": "code",
   "execution_count": 31,
   "metadata": {},
   "outputs": [],
   "source": [
    "def pw_gen_lower(size, chars=string.ascii_lowercase):\n",
    "    return ''.join(secrets.choice(chars) for i in range (size))"
   ]
  },
  {
   "cell_type": "code",
   "execution_count": 24,
   "metadata": {},
   "outputs": [],
   "source": [
    "def pw_gen_upper(size, chars=string.ascii_uppercase):\n",
    "    return ''.join(secrets.choice(chars) for i in range (size))"
   ]
  },
  {
   "cell_type": "code",
   "execution_count": 25,
   "metadata": {},
   "outputs": [],
   "source": [
    "def pw_gen_digits(size, chars=string.digits):\n",
    "    return ''.join(secrets.choice(chars) for i in range (size))"
   ]
  },
  {
   "cell_type": "code",
   "execution_count": 26,
   "metadata": {},
   "outputs": [],
   "source": [
    "def pw_gen_punctuation(size, chars=string.punctuation):\n",
    "    return ''.join(secrets.choice(chars) for i in range (size))"
   ]
  },
  {
   "cell_type": "code",
   "execution_count": 27,
   "metadata": {},
   "outputs": [],
   "source": [
    "def pw_gen_all(size, chars=string.ascii_letters + string.digits + string.punctuation + string.whitespace):\n",
    "    return ''.join(secrets.choice(chars) for i in range(size))"
   ]
  },
  {
   "cell_type": "code",
   "execution_count": 32,
   "metadata": {},
   "outputs": [],
   "source": [
    "def pw_gen_word(size):\n",
    "    f = open('words.txt', 'r')\n",
    "    all_words = f.read()\n",
    "    words = all_words.split('\\n')\n",
    "    password = ' '.join(secrets.choice(words) for i in range(size))\n",
    "    return password.replace(' ','-')"
   ]
  },
  {
   "cell_type": "code",
   "execution_count": 162,
   "metadata": {},
   "outputs": [],
   "source": [
    "from zxcvbn import zxcvbn\n",
    "#estimating password strength and time to crack\n",
    "# link to library: https://github.com/dwolfhub/zxcvbn-python"
   ]
  },
  {
   "cell_type": "code",
   "execution_count": 249,
   "metadata": {},
   "outputs": [],
   "source": [
    "results = zxcvbn(all_df[random_column].iloc[random_row])\n",
    "tests = [results]"
   ]
  },
  {
   "cell_type": "code",
   "execution_count": 240,
   "metadata": {},
   "outputs": [
    {
     "name": "stdout",
     "output_type": "stream",
     "text": [
      "How many characters should your password have?16\n"
     ]
    }
   ],
   "source": [
    "pw_chars = input('How many characters should your password have?')"
   ]
  },
  {
   "cell_type": "code",
   "execution_count": 241,
   "metadata": {},
   "outputs": [
    {
     "name": "stdout",
     "output_type": "stream",
     "text": [
      "This is your new passphrase: \"8/~p\\D4OJSKe$!_2\"\n"
     ]
    }
   ],
   "source": [
    "new_pw_chars = (pw_gen_all(int(pw_chars)))\n",
    "new_pw_chars = new_pw_chars\n",
    "print('This is your new passphrase:', '\"' + str(new_pw_chars)+ '\"')"
   ]
  },
  {
   "cell_type": "code",
   "execution_count": 242,
   "metadata": {},
   "outputs": [
    {
     "name": "stdout",
     "output_type": "stream",
     "text": [
      "How many words should your passphrase have?3\n"
     ]
    }
   ],
   "source": [
    "pw_words = input('How many words should your passphrase have?')"
   ]
  },
  {
   "cell_type": "code",
   "execution_count": 243,
   "metadata": {},
   "outputs": [
    {
     "name": "stdout",
     "output_type": "stream",
     "text": [
      "This is your new passphrase: \"anticommercially-self-sustenance\"\n"
     ]
    }
   ],
   "source": [
    "new_pw_words = (pw_gen_word(int(password_gen)))\n",
    "new_pw_words = new_pw_words\n",
    "print('This is your new passphrase:', '\"' + str(new_pw_words)+ '\"')"
   ]
  },
  {
   "cell_type": "code",
   "execution_count": 248,
   "metadata": {},
   "outputs": [
    {
     "name": "stdout",
     "output_type": "stream",
     "text": [
      "This is how long it will take to crack your password:\n",
      "12 days\n"
     ]
    }
   ],
   "source": [
    "print('This is how long it will take to crack your password:')\n",
    "pw_check = zxcvbn(new_pw_chars)\n",
    "print(pw_check['crack_times_display']['offline_fast_hashing_1e10_per_second'])"
   ]
  },
  {
   "cell_type": "code",
   "execution_count": 264,
   "metadata": {},
   "outputs": [],
   "source": [
    "import hashlib\n",
    "message = new_pw_chars.encode()\n",
    "hashed_pw = hashlib.sha256(message).hexdigest()\n",
    "five_chars = hashed_pw[:5]"
   ]
  },
  {
   "cell_type": "code",
   "execution_count": 265,
   "metadata": {},
   "outputs": [
    {
     "data": {
      "text/plain": [
       "'073c8'"
      ]
     },
     "execution_count": 265,
     "metadata": {},
     "output_type": "execute_result"
    }
   ],
   "source": [
    "five_chars"
   ]
  },
  {
   "cell_type": "code",
   "execution_count": 266,
   "metadata": {},
   "outputs": [
    {
     "data": {
      "text/plain": [
       "'073c8a90ddff2955335c68ee15a10071e3935d1ff1b31db1ec7b530c984cc86e'"
      ]
     },
     "execution_count": 266,
     "metadata": {},
     "output_type": "execute_result"
    }
   ],
   "source": [
    "hashed_pw"
   ]
  },
  {
   "cell_type": "code",
   "execution_count": 301,
   "metadata": {},
   "outputs": [
    {
     "name": "stdout",
     "output_type": "stream",
     "text": [
      "https://api.pwnedpasswords.com/range/073c8\n"
     ]
    }
   ],
   "source": [
    "hibp_url = 'https://api.pwnedpasswords.com/range/' +five_chars\n",
    "print(hibp_url)\n",
    "response = requests.get(hibp_url)\n",
    "chars_found = response.content"
   ]
  },
  {
   "cell_type": "code",
   "execution_count": null,
   "metadata": {},
   "outputs": [],
   "source": []
  }
 ],
 "metadata": {
  "kernelspec": {
   "display_name": "Python 3",
   "language": "python",
   "name": "python3"
  },
  "language_info": {
   "codemirror_mode": {
    "name": "ipython",
    "version": 3
   },
   "file_extension": ".py",
   "mimetype": "text/x-python",
   "name": "python",
   "nbconvert_exporter": "python",
   "pygments_lexer": "ipython3",
   "version": "3.6.3"
  }
 },
 "nbformat": 4,
 "nbformat_minor": 2
}
