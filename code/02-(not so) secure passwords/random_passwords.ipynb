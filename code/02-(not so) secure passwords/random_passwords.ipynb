{
 "cells": [
  {
   "cell_type": "code",
   "execution_count": 33,
   "metadata": {},
   "outputs": [],
   "source": [
    "import pandas as pd\n",
    "import string\n",
    "import secrets\n",
    "import requests\n",
    "import random\n",
    "import json\n",
    "import matplotlib\n",
    "import matplotlib.pyplot as plt\n",
    "% matplotlib inline\n",
    "from cycler import cycler"
   ]
  },
  {
   "cell_type": "markdown",
   "metadata": {},
   "source": [
    "### Description of the project\n",
    "1. Do this\n",
    "2. Then that\n",
    "3. in order to get\n",
    "4. Results"
   ]
  },
  {
   "cell_type": "code",
   "execution_count": 2,
   "metadata": {},
   "outputs": [],
   "source": [
    "def pw_gen_lower(size, chars=string.ascii_lowercase):\n",
    "    return ''.join(secrets.choice(chars) for i in range (size))"
   ]
  },
  {
   "cell_type": "code",
   "execution_count": 3,
   "metadata": {},
   "outputs": [],
   "source": [
    "def pw_gen_upper(size, chars=string.ascii_uppercase):\n",
    "    return ''.join(secrets.choice(chars) for i in range (size))"
   ]
  },
  {
   "cell_type": "code",
   "execution_count": 4,
   "metadata": {},
   "outputs": [],
   "source": [
    "def pw_gen_chars_digits(size, chars=string.ascii_uppercase+string.digits):\n",
    "    return ''.join(secrets.choice(chars) for i in range (size))"
   ]
  },
  {
   "cell_type": "code",
   "execution_count": 5,
   "metadata": {},
   "outputs": [],
   "source": [
    "def pw_gen_digits(size, chars=string.digits):\n",
    "    return ''.join(secrets.choice(chars) for i in range (size))"
   ]
  },
  {
   "cell_type": "code",
   "execution_count": 6,
   "metadata": {},
   "outputs": [],
   "source": [
    "def pw_gen_punctuation(size, chars=string.punctuation):\n",
    "    return ''.join(secrets.choice(chars) for i in range (size))"
   ]
  },
  {
   "cell_type": "code",
   "execution_count": 7,
   "metadata": {},
   "outputs": [],
   "source": [
    "def pw_gen_all(size, chars=string.ascii_letters + string.digits + string.punctuation + string.whitespace):\n",
    "    return ''.join(secrets.choice(chars) for i in range(size))"
   ]
  },
  {
   "cell_type": "code",
   "execution_count": 8,
   "metadata": {},
   "outputs": [],
   "source": [
    "def pw_gen_word(size):\n",
    "    f = open('words.txt', 'r')\n",
    "    all_words = f.read()\n",
    "    words = all_words.split('\\n')\n",
    "    password = ' '.join(secrets.choice(words) for i in range(size))\n",
    "    return password.replace(' ','-')"
   ]
  },
  {
   "cell_type": "code",
   "execution_count": 9,
   "metadata": {},
   "outputs": [],
   "source": [
    "def pw_most_used(size):\n",
    "    f = open('10kmost.txt', 'r')\n",
    "    most_common = f.read()\n",
    "    most_words = most_common.split('\\n')\n",
    "    password = ' '.join(secrets.choice(most_words) for i in range(size))\n",
    "    return password.replace(' ','-')"
   ]
  },
  {
   "cell_type": "code",
   "execution_count": 10,
   "metadata": {},
   "outputs": [
    {
     "data": {
      "text/plain": [
       "'colton'"
      ]
     },
     "execution_count": 10,
     "metadata": {},
     "output_type": "execute_result"
    }
   ],
   "source": [
    "pw_most_used(1)"
   ]
  },
  {
   "cell_type": "code",
   "execution_count": 11,
   "metadata": {},
   "outputs": [
    {
     "data": {
      "text/plain": [
       "'POBA33J7D'"
      ]
     },
     "execution_count": 11,
     "metadata": {},
     "output_type": "execute_result"
    }
   ],
   "source": [
    "pw_gen_chars_digits(9)"
   ]
  },
  {
   "cell_type": "code",
   "execution_count": 12,
   "metadata": {},
   "outputs": [],
   "source": [
    "import hashlib\n",
    "# hashing passwords\n",
    "from zxcvbn import zxcvbn\n",
    "#estimating password strength and time to crack\n",
    "# link to library: https://github.com/dwolfhub/zxcvbn-python\n",
    "# list of passwords: https://github.com/danielmiessler/SecLists/tree/master/Passwords"
   ]
  },
  {
   "cell_type": "code",
   "execution_count": 13,
   "metadata": {},
   "outputs": [],
   "source": [
    "def get_hash(password):\n",
    "    message = str(password).encode()\n",
    "    hashed_pw = hashlib.sha1(message).hexdigest()\n",
    "    five_chars = hashed_pw[:5]\n",
    "    return (hashed_pw, five_chars)"
   ]
  },
  {
   "cell_type": "code",
   "execution_count": 14,
   "metadata": {},
   "outputs": [
    {
     "data": {
      "text/plain": [
       "('57b2ad99044d337197c0c39fd3823568ff81e48a', '57b2a')"
      ]
     },
     "execution_count": 14,
     "metadata": {},
     "output_type": "execute_result"
    }
   ],
   "source": [
    "get_hash('p@ssw0rd')"
   ]
  },
  {
   "cell_type": "code",
   "execution_count": null,
   "metadata": {},
   "outputs": [],
   "source": [
    "hibp_url = 'https://api.pwnedpasswords.com/range/' + five_chars\n",
    "print(hibp_url)\n",
    "response = requests.get(hibp_url)\n",
    "chars_found = response.text.split('\\n')\n",
    "chars_found"
   ]
  },
  {
   "cell_type": "code",
   "execution_count": 16,
   "metadata": {},
   "outputs": [
    {
     "data": {
      "text/plain": [
       "'6'"
      ]
     },
     "execution_count": 16,
     "metadata": {},
     "output_type": "execute_result"
    }
   ],
   "source": [
    "pw_gen_digits(1)"
   ]
  },
  {
   "cell_type": "code",
   "execution_count": 17,
   "metadata": {},
   "outputs": [
    {
     "data": {
      "text/plain": [
       "'mfkw'"
      ]
     },
     "execution_count": 17,
     "metadata": {},
     "output_type": "execute_result"
    }
   ],
   "source": [
    "pw_gen_lower(4)"
   ]
  },
  {
   "cell_type": "code",
   "execution_count": 18,
   "metadata": {},
   "outputs": [
    {
     "data": {
      "text/plain": [
       "'ZYZPZK'"
      ]
     },
     "execution_count": 18,
     "metadata": {},
     "output_type": "execute_result"
    }
   ],
   "source": [
    "pw_gen_upper(6)"
   ]
  },
  {
   "cell_type": "code",
   "execution_count": 19,
   "metadata": {},
   "outputs": [
    {
     "data": {
      "text/plain": [
       "')%:=]{$'"
      ]
     },
     "execution_count": 19,
     "metadata": {},
     "output_type": "execute_result"
    }
   ],
   "source": [
    "pw_gen_punctuation(7)"
   ]
  },
  {
   "cell_type": "code",
   "execution_count": 20,
   "metadata": {},
   "outputs": [
    {
     "data": {
      "text/plain": [
       "'EApw#Y'"
      ]
     },
     "execution_count": 20,
     "metadata": {},
     "output_type": "execute_result"
    }
   ],
   "source": [
    "pw_gen_all(6)"
   ]
  },
  {
   "cell_type": "code",
   "execution_count": 21,
   "metadata": {},
   "outputs": [],
   "source": [
    "cracked_length = []"
   ]
  },
  {
   "cell_type": "code",
   "execution_count": 22,
   "metadata": {},
   "outputs": [],
   "source": [
    "def get_cracked(password):\n",
    "    dict_pw = {}\n",
    "    result = zxcvbn(str(password))\n",
    "    dict_pw['password'] = result['password']\n",
    "    dict_pw['type'] = 'letter and digits'\n",
    "    dict_pw['length'] = len(result['password'])\n",
    "    dict_pw['guesses'] = result['sequence'][0]['guesses']\n",
    "    dict_pw['seconds_to_crack'] = result['crack_times_display']['offline_fast_hashing_1e10_per_second']\n",
    "    cracked_length.append(dict_pw)"
   ]
  },
  {
   "cell_type": "code",
   "execution_count": 23,
   "metadata": {},
   "outputs": [],
   "source": [
    "for i in range(6,21):\n",
    "    get_cracked(pw_gen_chars_digits(i))"
   ]
  },
  {
   "cell_type": "code",
   "execution_count": 24,
   "metadata": {},
   "outputs": [],
   "source": [
    "df = pd.DataFrame(cracked_length)"
   ]
  },
  {
   "cell_type": "code",
   "execution_count": 110,
   "metadata": {},
   "outputs": [
    {
     "data": {
      "text/html": [
       "<div>\n",
       "<style scoped>\n",
       "    .dataframe tbody tr th:only-of-type {\n",
       "        vertical-align: middle;\n",
       "    }\n",
       "\n",
       "    .dataframe tbody tr th {\n",
       "        vertical-align: top;\n",
       "    }\n",
       "\n",
       "    .dataframe thead th {\n",
       "        text-align: right;\n",
       "    }\n",
       "</style>\n",
       "<table border=\"1\" class=\"dataframe\">\n",
       "  <thead>\n",
       "    <tr style=\"text-align: right;\">\n",
       "      <th></th>\n",
       "      <th>guesses</th>\n",
       "      <th>length</th>\n",
       "      <th>password</th>\n",
       "      <th>seconds_to_crack</th>\n",
       "      <th>type</th>\n",
       "    </tr>\n",
       "  </thead>\n",
       "  <tbody>\n",
       "    <tr>\n",
       "      <th>0</th>\n",
       "      <td>1000000</td>\n",
       "      <td>6</td>\n",
       "      <td>WA4GV2</td>\n",
       "      <td>0.5</td>\n",
       "      <td>letter and digits</td>\n",
       "    </tr>\n",
       "    <tr>\n",
       "      <th>1</th>\n",
       "      <td>10000000</td>\n",
       "      <td>7</td>\n",
       "      <td>SA0NWKT</td>\n",
       "      <td>0.5</td>\n",
       "      <td>letter and digits</td>\n",
       "    </tr>\n",
       "    <tr>\n",
       "      <th>2</th>\n",
       "      <td>100000000</td>\n",
       "      <td>8</td>\n",
       "      <td>EXF81MTP</td>\n",
       "      <td>0.5</td>\n",
       "      <td>letter and digits</td>\n",
       "    </tr>\n",
       "    <tr>\n",
       "      <th>3</th>\n",
       "      <td>1000000000</td>\n",
       "      <td>9</td>\n",
       "      <td>GMP29T3YV</td>\n",
       "      <td>0.5</td>\n",
       "      <td>letter and digits</td>\n",
       "    </tr>\n",
       "    <tr>\n",
       "      <th>4</th>\n",
       "      <td>1000000</td>\n",
       "      <td>10</td>\n",
       "      <td>WGR2TJSEEM</td>\n",
       "      <td>0.5</td>\n",
       "      <td>letter and digits</td>\n",
       "    </tr>\n",
       "    <tr>\n",
       "      <th>5</th>\n",
       "      <td>100000000000</td>\n",
       "      <td>11</td>\n",
       "      <td>8VO97OTDXO3</td>\n",
       "      <td>10</td>\n",
       "      <td>letter and digits</td>\n",
       "    </tr>\n",
       "    <tr>\n",
       "      <th>6</th>\n",
       "      <td>1000000000000</td>\n",
       "      <td>12</td>\n",
       "      <td>XGYVCXUMNPTD</td>\n",
       "      <td>120</td>\n",
       "      <td>letter and digits</td>\n",
       "    </tr>\n",
       "    <tr>\n",
       "      <th>7</th>\n",
       "      <td>10000000000000</td>\n",
       "      <td>13</td>\n",
       "      <td>F66JNLG5XTRV6</td>\n",
       "      <td>1020</td>\n",
       "      <td>letter and digits</td>\n",
       "    </tr>\n",
       "    <tr>\n",
       "      <th>8</th>\n",
       "      <td>100000000000000</td>\n",
       "      <td>14</td>\n",
       "      <td>500EWHCHLMSPPK</td>\n",
       "      <td>10800</td>\n",
       "      <td>letter and digits</td>\n",
       "    </tr>\n",
       "    <tr>\n",
       "      <th>9</th>\n",
       "      <td>1000000000000000</td>\n",
       "      <td>15</td>\n",
       "      <td>HQYZ4C1VUBKB5NN</td>\n",
       "      <td>86400</td>\n",
       "      <td>letter and digits</td>\n",
       "    </tr>\n",
       "    <tr>\n",
       "      <th>10</th>\n",
       "      <td>10000000000</td>\n",
       "      <td>16</td>\n",
       "      <td>0HANC9BTGYJXJX05</td>\n",
       "      <td>86400</td>\n",
       "      <td>letter and digits</td>\n",
       "    </tr>\n",
       "    <tr>\n",
       "      <th>11</th>\n",
       "      <td>100000000000000000</td>\n",
       "      <td>17</td>\n",
       "      <td>CCTTOZNARZSPCVOIV</td>\n",
       "      <td>10368000</td>\n",
       "      <td>letter and digits</td>\n",
       "    </tr>\n",
       "    <tr>\n",
       "      <th>12</th>\n",
       "      <td>1000000000000000000</td>\n",
       "      <td>18</td>\n",
       "      <td>XH409LP9IX7XDU65EK</td>\n",
       "      <td>93312000</td>\n",
       "      <td>letter and digits</td>\n",
       "    </tr>\n",
       "    <tr>\n",
       "      <th>13</th>\n",
       "      <td>1000000000000</td>\n",
       "      <td>19</td>\n",
       "      <td>G2YX25ZDG05EIEARR5X</td>\n",
       "      <td>93312000</td>\n",
       "      <td>letter and digits</td>\n",
       "    </tr>\n",
       "    <tr>\n",
       "      <th>14</th>\n",
       "      <td>100000000000000000000</td>\n",
       "      <td>20</td>\n",
       "      <td>W3F5LHQ0ZQWZC88UQEQT</td>\n",
       "      <td>centuries</td>\n",
       "      <td>letter and digits</td>\n",
       "    </tr>\n",
       "  </tbody>\n",
       "</table>\n",
       "</div>"
      ],
      "text/plain": [
       "                  guesses  length              password seconds_to_crack  \\\n",
       "0                 1000000       6                WA4GV2              0.5   \n",
       "1                10000000       7               SA0NWKT              0.5   \n",
       "2               100000000       8              EXF81MTP              0.5   \n",
       "3              1000000000       9             GMP29T3YV              0.5   \n",
       "4                 1000000      10            WGR2TJSEEM              0.5   \n",
       "5            100000000000      11           8VO97OTDXO3               10   \n",
       "6           1000000000000      12          XGYVCXUMNPTD              120   \n",
       "7          10000000000000      13         F66JNLG5XTRV6             1020   \n",
       "8         100000000000000      14        500EWHCHLMSPPK            10800   \n",
       "9        1000000000000000      15       HQYZ4C1VUBKB5NN            86400   \n",
       "10            10000000000      16      0HANC9BTGYJXJX05            86400   \n",
       "11     100000000000000000      17     CCTTOZNARZSPCVOIV         10368000   \n",
       "12    1000000000000000000      18    XH409LP9IX7XDU65EK         93312000   \n",
       "13          1000000000000      19   G2YX25ZDG05EIEARR5X         93312000   \n",
       "14  100000000000000000000      20  W3F5LHQ0ZQWZC88UQEQT        centuries   \n",
       "\n",
       "                 type  \n",
       "0   letter and digits  \n",
       "1   letter and digits  \n",
       "2   letter and digits  \n",
       "3   letter and digits  \n",
       "4   letter and digits  \n",
       "5   letter and digits  \n",
       "6   letter and digits  \n",
       "7   letter and digits  \n",
       "8   letter and digits  \n",
       "9   letter and digits  \n",
       "10  letter and digits  \n",
       "11  letter and digits  \n",
       "12  letter and digits  \n",
       "13  letter and digits  \n",
       "14  letter and digits  "
      ]
     },
     "execution_count": 110,
     "metadata": {},
     "output_type": "execute_result"
    }
   ],
   "source": [
    "df.head(20)"
   ]
  },
  {
   "cell_type": "code",
   "execution_count": 109,
   "metadata": {},
   "outputs": [],
   "source": [
    "df['seconds_to_crack'].replace({\n",
    "    'less than a second': 0.5,\n",
    "    '1 second': 1,\n",
    "    '10 seconds': 10,\n",
    "    '2 minutes': 60 * 2,\n",
    "    '17 minutes': 60 * 17,\n",
    "    '3 hours': 60 * 60 * 3,\n",
    "    '1 day': 60 * 60 * 24,\n",
    "    '12 days': (60 * 60 * 24) * 12,\n",
    "    '4 months': (60 * 60 * 24) * (30 * 4),\n",
    "    '3 years': (60 * 60 * 24) * ((30 * 12)*3),\n",
    "    '29 years': (60 * 60 * 24) * ((30 * 12)*3)\n",
    "    }, inplace=True)"
   ]
  },
  {
   "cell_type": "code",
   "execution_count": 54,
   "metadata": {},
   "outputs": [
    {
     "data": {
      "text/html": [
       "<div>\n",
       "<style scoped>\n",
       "    .dataframe tbody tr th:only-of-type {\n",
       "        vertical-align: middle;\n",
       "    }\n",
       "\n",
       "    .dataframe tbody tr th {\n",
       "        vertical-align: top;\n",
       "    }\n",
       "\n",
       "    .dataframe thead th {\n",
       "        text-align: right;\n",
       "    }\n",
       "</style>\n",
       "<table border=\"1\" class=\"dataframe\">\n",
       "  <thead>\n",
       "    <tr style=\"text-align: right;\">\n",
       "      <th></th>\n",
       "      <th>guesses</th>\n",
       "      <th>length</th>\n",
       "      <th>password</th>\n",
       "      <th>seconds_to_crack</th>\n",
       "      <th>type</th>\n",
       "    </tr>\n",
       "  </thead>\n",
       "  <tbody>\n",
       "    <tr>\n",
       "      <th>0</th>\n",
       "      <td>1000000</td>\n",
       "      <td>6</td>\n",
       "      <td>WA4GV2</td>\n",
       "      <td>0.5</td>\n",
       "      <td>letter and digits</td>\n",
       "    </tr>\n",
       "    <tr>\n",
       "      <th>1</th>\n",
       "      <td>10000000</td>\n",
       "      <td>7</td>\n",
       "      <td>SA0NWKT</td>\n",
       "      <td>0.5</td>\n",
       "      <td>letter and digits</td>\n",
       "    </tr>\n",
       "    <tr>\n",
       "      <th>2</th>\n",
       "      <td>100000000</td>\n",
       "      <td>8</td>\n",
       "      <td>EXF81MTP</td>\n",
       "      <td>0.5</td>\n",
       "      <td>letter and digits</td>\n",
       "    </tr>\n",
       "    <tr>\n",
       "      <th>3</th>\n",
       "      <td>1000000000</td>\n",
       "      <td>9</td>\n",
       "      <td>GMP29T3YV</td>\n",
       "      <td>0.5</td>\n",
       "      <td>letter and digits</td>\n",
       "    </tr>\n",
       "    <tr>\n",
       "      <th>4</th>\n",
       "      <td>1000000</td>\n",
       "      <td>10</td>\n",
       "      <td>WGR2TJSEEM</td>\n",
       "      <td>0.5</td>\n",
       "      <td>letter and digits</td>\n",
       "    </tr>\n",
       "    <tr>\n",
       "      <th>5</th>\n",
       "      <td>100000000000</td>\n",
       "      <td>11</td>\n",
       "      <td>8VO97OTDXO3</td>\n",
       "      <td>10</td>\n",
       "      <td>letter and digits</td>\n",
       "    </tr>\n",
       "  </tbody>\n",
       "</table>\n",
       "</div>"
      ],
      "text/plain": [
       "        guesses  length     password seconds_to_crack               type\n",
       "0       1000000       6       WA4GV2              0.5  letter and digits\n",
       "1      10000000       7      SA0NWKT              0.5  letter and digits\n",
       "2     100000000       8     EXF81MTP              0.5  letter and digits\n",
       "3    1000000000       9    GMP29T3YV              0.5  letter and digits\n",
       "4       1000000      10   WGR2TJSEEM              0.5  letter and digits\n",
       "5  100000000000      11  8VO97OTDXO3               10  letter and digits"
      ]
     },
     "execution_count": 54,
     "metadata": {},
     "output_type": "execute_result"
    }
   ],
   "source": [
    "shortest_passwords = df[0:6]\n",
    "shortest_passwords"
   ]
  },
  {
   "cell_type": "code",
   "execution_count": 55,
   "metadata": {},
   "outputs": [],
   "source": [
    "plt.rcdefaults()\n",
    "plt.rcParams.update({\n",
    "    'pdf.fonttype': 42,\n",
    "    'ps.fonttype': 42,\n",
    "\n",
    "    'figure.facecolor': '#FAFAFA',\n",
    "    \n",
    "### AXES\n",
    "    'axes.facecolor': '#FAFAFA',\n",
    "    'axes.edgecolor': 'black',\n",
    "    'axes.linewidth': 0.8,\n",
    "    'axes.grid': True,\n",
    "    'axes.titlesize': 'medium',\n",
    "    'axes.labelweight': 'normal',  # weight of the x and y labels\n",
    "    'axes.labelcolor': 'black',\n",
    "    'axes.axisbelow': 'line',\n",
    "    \"axes.spines.left\" : False,\n",
    "    \"axes.spines.right\" : False,\n",
    "    \"axes.spines.top\" : False,\n",
    "    'axes.axisbelow': True,\n",
    "    'axes.prop_cycle': cycler('color', ['#673AB7', '#80DEEA', '#FFD600', '#FF9E80', '#CCFF90', '#8c564b', \n",
    "                                        '#e377c2', '#7f7f7f', '#bcbd22', '#17becf']),\n",
    "#axes.xmargin        : .05  # x margin.  See `axes.Axes.margins`\n",
    "#axes.ymargin        : .05  # y margin See `axes.Axes.margins`\n",
    "\n",
    "## LINES\n",
    "    'lines.linewidth': 1.5,\n",
    "    'lines.linestyle': '-',\n",
    "\n",
    "## LEGEND\n",
    "   'legend.frameon': True,     \n",
    "    'legend.framealpha': 0.8,   \n",
    "    'legend.facecolor': 'inherit',\n",
    "    #'legend.edgecolor': 0.8,     \n",
    "    'legend.fancybox': True,     \n",
    "\n",
    "## FONT\n",
    "    'font.family': 'sans-serif',\n",
    "    'font.style': 'normal',\n",
    "    'font.variant': 'normal',\n",
    "    'font.weight': 'medium',\n",
    "    'font.stretch': 'normal',\n",
    "    'font.size': 19,\n",
    "    \n",
    "## GRID\n",
    "    'grid.color': '#616161',\n",
    "    \"grid.linewidth\": 0.3,\n",
    "    'grid.linestyle': '-.',\n",
    "    'grid.alpha': 1.0,\n",
    "    \n",
    "## TICKS\n",
    "    'xtick.bottom': False,\n",
    "    'xtick.color': '#616161',\n",
    "    'xtick.direction': 'in',\n",
    "    'xtick.labelbottom': True,\n",
    "    'xtick.labelsize': 'medium',\n",
    "#    'xtick.labeltop': False,\n",
    "#    'xtick.major.bottom': True,\n",
    "    'xtick.major.pad': 3.5,\n",
    "#    'xtick.major.size': 3.0,\n",
    "#    'xtick.major.top': True,\n",
    "    'xtick.major.width': 1,\n",
    "#    'xtick.minor.bottom': True,\n",
    "#    'xtick.minor.pad': 3.4,\n",
    "#    'xtick.minor.size': 2.0,\n",
    "#    'xtick.minor.top': True,\n",
    "#    'xtick.minor.visible': False,\n",
    "#    'xtick.minor.width': 0.6,\n",
    "#    'xtick.top': False,\n",
    "#    'ytick.alignment': 'center_baseline',\n",
    "    'ytick.color': '#616161',\n",
    "    'ytick.direction': 'in',\n",
    "#    'ytick.labelleft': True,\n",
    "#    'ytick.labelright': False,\n",
    "#    'ytick.labelsize': 'medium',\n",
    "#    'ytick.left': True,\n",
    "#    'ytick.major.left': True,\n",
    "#    'ytick.major.pad': 3.5,\n",
    "#    'ytick.major.right': True,\n",
    "#    'ytick.major.size': 0.0,\n",
    "#    'ytick.major.width': 0.8,\n",
    "#    'ytick.minor.left': True,\n",
    "#    'ytick.minor.pad': 3.4,\n",
    "#    'ytick.minor.right': True,\n",
    "#    'ytick.minor.size': 0.0,\n",
    "#    'ytick.minor.visible': False,\n",
    "#    'ytick.minor.width': 0.6,\n",
    "#    'ytick.right': False\n",
    "})"
   ]
  },
  {
   "cell_type": "code",
   "execution_count": 56,
   "metadata": {},
   "outputs": [],
   "source": [
    "def get_color(seconds):\n",
    "    if seconds > 9:\n",
    "        return '#673AB7'\n",
    "    else:\n",
    "        return '#7f7f7f'\n",
    "bar_colors = [get_color(seconds) for seconds in shortest_passwords.seconds_to_crack]"
   ]
  },
  {
   "cell_type": "code",
   "execution_count": 57,
   "metadata": {},
   "outputs": [
    {
     "data": {
      "image/png": "[encoded data removed]",
      "text/plain": [
       "<Figure size 1800x1000 with 1 Axes>"
      ]
     },
     "metadata": {},
     "output_type": "display_data"
    }
   ],
   "source": [
    "ax = shortest_passwords.plot(kind='barh', x='length', y='seconds_to_crack', color=bar_colors, figsize=(18,10), width=0.8, legend=False)\n",
    "ax.set_title('Cracking short passwords? Done in seconds.', fontsize=30)\n",
    "ax.yaxis.grid(False)\n",
    "ax.xaxis.grid(True)\n",
    "ax.xaxis.label.set_visible(False)\n",
    "ax.yaxis.label.set_visible(False)\n",
    "ax.set_xticklabels([0, 2, 4, 6, 8, '10 seconds'])\n",
    "#ax.set_yticklabels([6, 7, 8, 9, 10, '11 characters'])\n",
    "plt.savefig('shorttest_passwords.pdf', facecolor=plt.rcParams['figure.facecolor'])"
   ]
  },
  {
   "cell_type": "code",
   "execution_count": 66,
   "metadata": {},
   "outputs": [
    {
     "data": {
      "text/html": [
       "<div>\n",
       "<style scoped>\n",
       "    .dataframe tbody tr th:only-of-type {\n",
       "        vertical-align: middle;\n",
       "    }\n",
       "\n",
       "    .dataframe tbody tr th {\n",
       "        vertical-align: top;\n",
       "    }\n",
       "\n",
       "    .dataframe thead th {\n",
       "        text-align: right;\n",
       "    }\n",
       "</style>\n",
       "<table border=\"1\" class=\"dataframe\">\n",
       "  <thead>\n",
       "    <tr style=\"text-align: right;\">\n",
       "      <th></th>\n",
       "      <th>guesses</th>\n",
       "      <th>length</th>\n",
       "      <th>password</th>\n",
       "      <th>seconds_to_crack</th>\n",
       "      <th>type</th>\n",
       "    </tr>\n",
       "  </thead>\n",
       "  <tbody>\n",
       "    <tr>\n",
       "      <th>4</th>\n",
       "      <td>1000000</td>\n",
       "      <td>10</td>\n",
       "      <td>WGR2TJSEEM</td>\n",
       "      <td>0.5</td>\n",
       "      <td>letter and digits</td>\n",
       "    </tr>\n",
       "    <tr>\n",
       "      <th>5</th>\n",
       "      <td>100000000000</td>\n",
       "      <td>11</td>\n",
       "      <td>8VO97OTDXO3</td>\n",
       "      <td>10</td>\n",
       "      <td>letter and digits</td>\n",
       "    </tr>\n",
       "    <tr>\n",
       "      <th>6</th>\n",
       "      <td>1000000000000</td>\n",
       "      <td>12</td>\n",
       "      <td>XGYVCXUMNPTD</td>\n",
       "      <td>120</td>\n",
       "      <td>letter and digits</td>\n",
       "    </tr>\n",
       "    <tr>\n",
       "      <th>7</th>\n",
       "      <td>10000000000000</td>\n",
       "      <td>13</td>\n",
       "      <td>F66JNLG5XTRV6</td>\n",
       "      <td>1020</td>\n",
       "      <td>letter and digits</td>\n",
       "    </tr>\n",
       "  </tbody>\n",
       "</table>\n",
       "</div>"
      ],
      "text/plain": [
       "          guesses  length       password seconds_to_crack               type\n",
       "4         1000000      10     WGR2TJSEEM              0.5  letter and digits\n",
       "5    100000000000      11    8VO97OTDXO3               10  letter and digits\n",
       "6   1000000000000      12   XGYVCXUMNPTD              120  letter and digits\n",
       "7  10000000000000      13  F66JNLG5XTRV6             1020  letter and digits"
      ]
     },
     "execution_count": 66,
     "metadata": {},
     "output_type": "execute_result"
    }
   ],
   "source": [
    "short_passwords = df[4:8]\n",
    "short_passwords"
   ]
  },
  {
   "cell_type": "code",
   "execution_count": 104,
   "metadata": {},
   "outputs": [],
   "source": [
    "def get_color(seconds):\n",
    "    if seconds > 100:\n",
    "        return '#FF9E80'\n",
    "    if seconds > 9:\n",
    "        return '#673AB7'\n",
    "    else:\n",
    "        return '#7f7f7f'\n",
    "\n",
    "bar_color_new = [get_color(seconds) for seconds in short_passwords.seconds_to_crack]#.sort_values(ascending=False)]\n",
    "#bar_color_new = bar_color_new[::-1]"
   ]
  },
  {
   "cell_type": "code",
   "execution_count": 115,
   "metadata": {},
   "outputs": [
    {
     "data": {
      "image/png": "[encoded data removed]",
      "text/plain": [
       "<Figure size 1800x1000 with 1 Axes>"
      ]
     },
     "metadata": {},
     "output_type": "display_data"
    }
   ],
   "source": [
    "ax = short_passwords.plot(kind='barh', x='length', y='seconds_to_crack', color=bar_color_new, figsize=(18,10), width=0.8, legend=False)\n",
    "ax.set_title('What difference one character makes', fontsize=30)\n",
    "ax.yaxis.grid(False)\n",
    "ax.xaxis.grid(True)\n",
    "ax.xaxis.label.set_visible(False)\n",
    "ax.yaxis.label.set_visible(False)\n",
    "ax.set_xticklabels([0, 200, 400, 600, 800, '1000 seconds'])\n",
    "#ax.set_yticklabels([6, 7, 8, 9, 10, '11 characters'])\n",
    "plt.savefig('short_passwords.pdf', facecolor=plt.rcParams['figure.facecolor'])\n",
    "#    'axes.prop_cycle': cycler('color', ['#673AB7', '#80DEEA', '#FFD600', '#FF9E80', '#CCFF90', '#8c564b', \n",
    "#                                        '#e377c2', '#7f7f7f', '#bcbd22', '#17becf']),"
   ]
  },
  {
   "cell_type": "code",
   "execution_count": 146,
   "metadata": {},
   "outputs": [
    {
     "data": {
      "text/html": [
       "<div>\n",
       "<style scoped>\n",
       "    .dataframe tbody tr th:only-of-type {\n",
       "        vertical-align: middle;\n",
       "    }\n",
       "\n",
       "    .dataframe tbody tr th {\n",
       "        vertical-align: top;\n",
       "    }\n",
       "\n",
       "    .dataframe thead th {\n",
       "        text-align: right;\n",
       "    }\n",
       "</style>\n",
       "<table border=\"1\" class=\"dataframe\">\n",
       "  <thead>\n",
       "    <tr style=\"text-align: right;\">\n",
       "      <th></th>\n",
       "      <th>guesses</th>\n",
       "      <th>length</th>\n",
       "      <th>password</th>\n",
       "      <th>seconds_to_crack</th>\n",
       "      <th>type</th>\n",
       "    </tr>\n",
       "  </thead>\n",
       "  <tbody>\n",
       "    <tr>\n",
       "      <th>7</th>\n",
       "      <td>10000000000000</td>\n",
       "      <td>13</td>\n",
       "      <td>F66JNLG5XTRV6</td>\n",
       "      <td>1020</td>\n",
       "      <td>letter and digits</td>\n",
       "    </tr>\n",
       "    <tr>\n",
       "      <th>8</th>\n",
       "      <td>100000000000000</td>\n",
       "      <td>14</td>\n",
       "      <td>500EWHCHLMSPPK</td>\n",
       "      <td>10800</td>\n",
       "      <td>letter and digits</td>\n",
       "    </tr>\n",
       "    <tr>\n",
       "      <th>9</th>\n",
       "      <td>1000000000000000</td>\n",
       "      <td>15</td>\n",
       "      <td>HQYZ4C1VUBKB5NN</td>\n",
       "      <td>86400</td>\n",
       "      <td>letter and digits</td>\n",
       "    </tr>\n",
       "    <tr>\n",
       "      <th>10</th>\n",
       "      <td>10000000000</td>\n",
       "      <td>16</td>\n",
       "      <td>0HANC9BTGYJXJX05</td>\n",
       "      <td>86400</td>\n",
       "      <td>letter and digits</td>\n",
       "    </tr>\n",
       "    <tr>\n",
       "      <th>11</th>\n",
       "      <td>100000000000000000</td>\n",
       "      <td>17</td>\n",
       "      <td>CCTTOZNARZSPCVOIV</td>\n",
       "      <td>10368000</td>\n",
       "      <td>letter and digits</td>\n",
       "    </tr>\n",
       "    <tr>\n",
       "      <th>12</th>\n",
       "      <td>1000000000000000000</td>\n",
       "      <td>18</td>\n",
       "      <td>XH409LP9IX7XDU65EK</td>\n",
       "      <td>93312000</td>\n",
       "      <td>letter and digits</td>\n",
       "    </tr>\n",
       "  </tbody>\n",
       "</table>\n",
       "</div>"
      ],
      "text/plain": [
       "                guesses  length            password seconds_to_crack  \\\n",
       "7        10000000000000      13       F66JNLG5XTRV6             1020   \n",
       "8       100000000000000      14      500EWHCHLMSPPK            10800   \n",
       "9      1000000000000000      15     HQYZ4C1VUBKB5NN            86400   \n",
       "10          10000000000      16    0HANC9BTGYJXJX05            86400   \n",
       "11   100000000000000000      17   CCTTOZNARZSPCVOIV         10368000   \n",
       "12  1000000000000000000      18  XH409LP9IX7XDU65EK         93312000   \n",
       "\n",
       "                 type  \n",
       "7   letter and digits  \n",
       "8   letter and digits  \n",
       "9   letter and digits  \n",
       "10  letter and digits  \n",
       "11  letter and digits  \n",
       "12  letter and digits  "
      ]
     },
     "execution_count": 146,
     "metadata": {},
     "output_type": "execute_result"
    }
   ],
   "source": [
    "long_passwords = df[7:13]\n",
    "long_passwords"
   ]
  },
  {
   "cell_type": "code",
   "execution_count": 147,
   "metadata": {},
   "outputs": [],
   "source": [
    "def get_color(seconds):\n",
    "    if seconds > 5500:\n",
    "        return '#7f7f7f'\n",
    "    if seconds > 100:\n",
    "        return '#FF9E80'\n",
    "    if seconds > 9:\n",
    "        return '#673AB7'\n",
    "    else:\n",
    "        return '#bcbd22'\n",
    "\n",
    "bar_coloring = [get_color(seconds) for seconds in long_passwords.seconds_to_crack.sort_values(ascending=False)]\n",
    "#bar_color_new = bar_color_new[::-1]"
   ]
  },
  {
   "cell_type": "code",
   "execution_count": 166,
   "metadata": {},
   "outputs": [
    {
     "data": {
      "image/png": "[encoded data removed]",
      "text/plain": [
       "<Figure size 1800x1000 with 1 Axes>"
      ]
     },
     "metadata": {},
     "output_type": "display_data"
    }
   ],
   "source": [
    "ax = long_passwords.plot(kind='barh', x='length', y='seconds_to_crack', color=['#7fcdbb', '#7f7f7f', '#7f7f7f', '#7f7f7f', '#7f7f7f'], figsize=(18,10), width=0.8, legend=False)\n",
    "ax.set_title('Now, this is a secure password', fontsize=30)\n",
    "ax.yaxis.grid(False)\n",
    "ax.xaxis.grid(True)\n",
    "ax.xaxis.label.set_visible(False)\n",
    "ax.yaxis.label.set_visible(False)\n",
    "#ax.set_xticklabels([0, 200, 400, 600, 800, '93312000 seconds'])\n",
    "#ax.set_yticklabels([6, 7, 8, 9, 10, '11 characters'])\n",
    "plt.savefig('long_passwords.pdf', facecolor=plt.rcParams['figure.facecolor'])\n",
    "#    'axes.prop_cycle': cycler('color', ['#673AB7', '#80DEEA', '#FFD600', '#FF9E80', '#CCFF90', '#8c564b', \n",
    "#                                        '#e377c2', '#7f7f7f', '#bcbd22', '#17becf']),"
   ]
  },
  {
   "cell_type": "code",
   "execution_count": null,
   "metadata": {},
   "outputs": [],
   "source": [
    "pw_chars = input('How many characters should your password have?')"
   ]
  },
  {
   "cell_type": "code",
   "execution_count": null,
   "metadata": {},
   "outputs": [],
   "source": [
    "new_pw_chars = (pw_gen_all(int(pw_chars)))\n",
    "new_pw_chars = new_pw_chars\n",
    "print('This is your new passphrase:', '\"' + str(new_pw_chars)+ '\"')"
   ]
  },
  {
   "cell_type": "code",
   "execution_count": null,
   "metadata": {},
   "outputs": [],
   "source": [
    "pw_words = input('How many words should your passphrase have?')"
   ]
  },
  {
   "cell_type": "code",
   "execution_count": null,
   "metadata": {},
   "outputs": [],
   "source": [
    "new_pw_words = (pw_gen_word(int(password_gen)))\n",
    "new_pw_words = new_pw_words\n",
    "print('This is your new passphrase:', '\"' + str(new_pw_words)+ '\"')"
   ]
  },
  {
   "cell_type": "code",
   "execution_count": null,
   "metadata": {},
   "outputs": [],
   "source": [
    "print('This is how long it will take to crack your password:')\n",
    "pw_check = zxcvbn(new_pw_chars)\n",
    "print(pw_check['crack_times_display']['offline_fast_hashing_1e10_per_second'])"
   ]
  },
  {
   "cell_type": "code",
   "execution_count": null,
   "metadata": {},
   "outputs": [],
   "source": []
  },
  {
   "cell_type": "code",
   "execution_count": null,
   "metadata": {},
   "outputs": [],
   "source": []
  },
  {
   "cell_type": "code",
   "execution_count": null,
   "metadata": {},
   "outputs": [],
   "source": []
  },
  {
   "cell_type": "code",
   "execution_count": null,
   "metadata": {},
   "outputs": [],
   "source": []
  },
  {
   "cell_type": "code",
   "execution_count": null,
   "metadata": {},
   "outputs": [],
   "source": []
  },
  {
   "cell_type": "code",
   "execution_count": null,
   "metadata": {},
   "outputs": [],
   "source": []
  },
  {
   "cell_type": "code",
   "execution_count": null,
   "metadata": {},
   "outputs": [],
   "source": []
  },
  {
   "cell_type": "code",
   "execution_count": null,
   "metadata": {},
   "outputs": [],
   "source": [
    "class Vector:\n",
    "    def __init__(self, x, y):\n",
    "        self.x = x\n",
    "        self.y = y"
   ]
  },
  {
   "cell_type": "code",
   "execution_count": null,
   "metadata": {},
   "outputs": [],
   "source": [
    "def length(self):\n",
    "    return (self.x * 2 + self.y * 2)"
   ]
  },
  {
   "cell_type": "code",
   "execution_count": null,
   "metadata": {},
   "outputs": [],
   "source": [
    "hi = Vector(2, 3)"
   ]
  },
  {
   "cell_type": "code",
   "execution_count": null,
   "metadata": {},
   "outputs": [],
   "source": [
    "length(hi)"
   ]
  },
  {
   "cell_type": "code",
   "execution_count": null,
   "metadata": {},
   "outputs": [],
   "source": [
    "new_thing = Vector(100, 400)"
   ]
  },
  {
   "cell_type": "code",
   "execution_count": null,
   "metadata": {},
   "outputs": [],
   "source": [
    "length(new_thing)"
   ]
  },
  {
   "cell_type": "code",
   "execution_count": null,
   "metadata": {},
   "outputs": [],
   "source": []
  },
  {
   "cell_type": "code",
   "execution_count": null,
   "metadata": {},
   "outputs": [],
   "source": []
  },
  {
   "cell_type": "code",
   "execution_count": null,
   "metadata": {},
   "outputs": [],
   "source": []
  },
  {
   "cell_type": "code",
   "execution_count": null,
   "metadata": {},
   "outputs": [],
   "source": []
  },
  {
   "cell_type": "code",
   "execution_count": null,
   "metadata": {},
   "outputs": [],
   "source": []
  }
 ],
 "metadata": {
  "kernelspec": {
   "display_name": "Python 3",
   "language": "python",
   "name": "python3"
  },
  "language_info": {
   "codemirror_mode": {
    "name": "ipython",
    "version": 3
   },
   "file_extension": ".py",
   "mimetype": "text/x-python",
   "name": "python",
   "nbconvert_exporter": "python",
   "pygments_lexer": "ipython3",
   "version": "3.6.3"
  }
 },
 "nbformat": 4,
 "nbformat_minor": 2
}
