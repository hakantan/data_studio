{
 "cells": [
  {
   "cell_type": "code",
   "execution_count": 288,
   "metadata": {},
   "outputs": [],
   "source": [
    "import pandas as pd\n",
    "import string\n",
    "import secrets\n",
    "import requests\n",
    "import random\n",
    "import json"
   ]
  },
  {
   "cell_type": "markdown",
   "metadata": {},
   "source": [
    "### Description of the project\n",
    "1. Do this\n",
    "2. Then that\n",
    "3. in order to get\n",
    "4. Results"
   ]
  },
  {
   "cell_type": "code",
   "execution_count": 31,
   "metadata": {},
   "outputs": [],
   "source": [
    "def pw_gen_lower(size, chars=string.ascii_lowercase):\n",
    "    return ''.join(secrets.choice(chars) for i in range (size))"
   ]
  },
  {
   "cell_type": "code",
   "execution_count": 24,
   "metadata": {},
   "outputs": [],
   "source": [
    "def pw_gen_upper(size, chars=string.ascii_uppercase):\n",
    "    return ''.join(secrets.choice(chars) for i in range (size))"
   ]
  },
  {
   "cell_type": "code",
   "execution_count": 25,
   "metadata": {},
   "outputs": [],
   "source": [
    "def pw_gen_digits(size, chars=string.digits):\n",
    "    return ''.join(secrets.choice(chars) for i in range (size))"
   ]
  },
  {
   "cell_type": "code",
   "execution_count": 26,
   "metadata": {},
   "outputs": [],
   "source": [
    "def pw_gen_punctuation(size, chars=string.punctuation):\n",
    "    return ''.join(secrets.choice(chars) for i in range (size))"
   ]
  },
  {
   "cell_type": "code",
   "execution_count": 27,
   "metadata": {},
   "outputs": [],
   "source": [
    "def pw_gen_all(size, chars=string.ascii_letters + string.digits + string.punctuation + string.whitespace):\n",
    "    return ''.join(secrets.choice(chars) for i in range(size))"
   ]
  },
  {
   "cell_type": "code",
   "execution_count": 32,
   "metadata": {},
   "outputs": [],
   "source": [
    "def pw_gen_word(size):\n",
    "    f = open('words.txt', 'r')\n",
    "    all_words = f.read()\n",
    "    words = all_words.split('\\n')\n",
    "    password = ' '.join(secrets.choice(words) for i in range(size))\n",
    "    return password.replace(' ','-')"
   ]
  },
  {
   "cell_type": "code",
   "execution_count": 112,
   "metadata": {},
   "outputs": [],
   "source": [
    "lowercase = []\n",
    "counter = 6\n",
    "while counter < 20:\n",
    "    words_in_loop = []\n",
    "    for i in range(0,1001):\n",
    "        words_in_loop.append(pw_gen_lower(counter))\n",
    "    counter = counter + 1\n",
    "    lowercase.append(words_in_loop)"
   ]
  },
  {
   "cell_type": "code",
   "execution_count": 132,
   "metadata": {},
   "outputs": [],
   "source": [
    "df_lowercase = pd.DataFrame(lowercase)\n",
    "df_lowercase = df_lowercase.T"
   ]
  },
  {
   "cell_type": "code",
   "execution_count": 195,
   "metadata": {},
   "outputs": [],
   "source": [
    "df_lowercase['password_type'] = 'lowercase'"
   ]
  },
  {
   "cell_type": "code",
   "execution_count": 114,
   "metadata": {},
   "outputs": [],
   "source": [
    "uppercase = []\n",
    "counter = 6\n",
    "while counter < 20:\n",
    "    words_in_loop = []\n",
    "    for i in range(0,1001):\n",
    "        words_in_loop.append(pw_gen_upper(counter))\n",
    "    counter = counter + 1\n",
    "    uppercase.append(words_in_loop)"
   ]
  },
  {
   "cell_type": "code",
   "execution_count": 134,
   "metadata": {},
   "outputs": [],
   "source": [
    "df_uppercase = pd.DataFrame(uppercase)\n",
    "df_uppercase = df_uppercase.T"
   ]
  },
  {
   "cell_type": "code",
   "execution_count": 196,
   "metadata": {},
   "outputs": [],
   "source": [
    "df_uppercase['password_type'] = 'uppercase'"
   ]
  },
  {
   "cell_type": "code",
   "execution_count": 116,
   "metadata": {},
   "outputs": [],
   "source": [
    "digits_only = []\n",
    "counter = 6\n",
    "while counter < 20:\n",
    "    words_in_loop = []\n",
    "    for i in range(0,1001):\n",
    "        words_in_loop.append(pw_gen_digits(counter))\n",
    "    counter = counter + 1\n",
    "    digits_only.append(words_in_loop)"
   ]
  },
  {
   "cell_type": "code",
   "execution_count": 136,
   "metadata": {},
   "outputs": [],
   "source": [
    "df_digits_only = pd.DataFrame(digits_only)\n",
    "df_digits_only = df_digits_only.T"
   ]
  },
  {
   "cell_type": "code",
   "execution_count": 197,
   "metadata": {},
   "outputs": [],
   "source": [
    "df_digits_only['password_type'] = 'digits_only'"
   ]
  },
  {
   "cell_type": "code",
   "execution_count": 118,
   "metadata": {},
   "outputs": [],
   "source": [
    "punct_only = []\n",
    "counter = 6\n",
    "while counter < 20:\n",
    "    words_in_loop = []\n",
    "    for i in range(0,1001):\n",
    "        words_in_loop.append(pw_gen_punctuation(counter))\n",
    "    counter = counter + 1\n",
    "    punct_only.append(words_in_loop)"
   ]
  },
  {
   "cell_type": "code",
   "execution_count": 139,
   "metadata": {},
   "outputs": [],
   "source": [
    "df_punct_only = pd.DataFrame(punct_only)\n",
    "df_punct_only = df_punct_only.T"
   ]
  },
  {
   "cell_type": "code",
   "execution_count": 198,
   "metadata": {},
   "outputs": [],
   "source": [
    "df_punct_only['password_type'] = 'punct_only'"
   ]
  },
  {
   "cell_type": "code",
   "execution_count": 120,
   "metadata": {},
   "outputs": [],
   "source": [
    "all_chars = []\n",
    "counter = 6\n",
    "while counter < 20:\n",
    "    words_in_loop = []\n",
    "    for i in range(0,1001):\n",
    "        words_in_loop.append(pw_gen_all(counter))\n",
    "    counter = counter + 1\n",
    "    all_chars.append(words_in_loop)"
   ]
  },
  {
   "cell_type": "code",
   "execution_count": 141,
   "metadata": {},
   "outputs": [],
   "source": [
    "df_all_chars = pd.DataFrame(all_chars)\n",
    "df_all_chars = df_all_chars.T"
   ]
  },
  {
   "cell_type": "code",
   "execution_count": 199,
   "metadata": {},
   "outputs": [],
   "source": [
    "df_all_chars['password_type'] = 'all_chars'"
   ]
  },
  {
   "cell_type": "code",
   "execution_count": 143,
   "metadata": {},
   "outputs": [],
   "source": [
    "all_words = []\n",
    "counter = 3\n",
    "while counter < 4:\n",
    "    words_in_loop = []\n",
    "    for i in range(0,1001):\n",
    "        words_in_loop.append(pw_gen_word(counter))\n",
    "    counter = counter + 1\n",
    "    all_words.append(words_in_loop)"
   ]
  },
  {
   "cell_type": "code",
   "execution_count": 147,
   "metadata": {},
   "outputs": [],
   "source": [
    "df_all_words = pd.DataFrame(all_words)\n",
    "df_all_words = df_all_words.T"
   ]
  },
  {
   "cell_type": "code",
   "execution_count": 155,
   "metadata": {},
   "outputs": [
    {
     "data": {
      "text/html": [
       "<div>\n",
       "<style scoped>\n",
       "    .dataframe tbody tr th:only-of-type {\n",
       "        vertical-align: middle;\n",
       "    }\n",
       "\n",
       "    .dataframe tbody tr th {\n",
       "        vertical-align: top;\n",
       "    }\n",
       "\n",
       "    .dataframe thead th {\n",
       "        text-align: right;\n",
       "    }\n",
       "</style>\n",
       "<table border=\"1\" class=\"dataframe\">\n",
       "  <thead>\n",
       "    <tr style=\"text-align: right;\">\n",
       "      <th></th>\n",
       "      <th>0</th>\n",
       "      <th>password_type</th>\n",
       "    </tr>\n",
       "  </thead>\n",
       "  <tbody>\n",
       "    <tr>\n",
       "      <th>0</th>\n",
       "      <td>nonproscriptive-mezquits-blastomycetic</td>\n",
       "      <td>all_words</td>\n",
       "    </tr>\n",
       "  </tbody>\n",
       "</table>\n",
       "</div>"
      ],
      "text/plain": [
       "                                        0 password_type\n",
       "0  nonproscriptive-mezquits-blastomycetic     all_words"
      ]
     },
     "execution_count": 155,
     "metadata": {},
     "output_type": "execute_result"
    }
   ],
   "source": [
    "df_all_words['password_type'] = 'all_words'\n",
    "df_all_words.head(1)"
   ]
  },
  {
   "cell_type": "code",
   "execution_count": 183,
   "metadata": {},
   "outputs": [
    {
     "data": {
      "text/html": [
       "<div>\n",
       "<style scoped>\n",
       "    .dataframe tbody tr th:only-of-type {\n",
       "        vertical-align: middle;\n",
       "    }\n",
       "\n",
       "    .dataframe tbody tr th {\n",
       "        vertical-align: top;\n",
       "    }\n",
       "\n",
       "    .dataframe thead th {\n",
       "        text-align: right;\n",
       "    }\n",
       "</style>\n",
       "<table border=\"1\" class=\"dataframe\">\n",
       "  <thead>\n",
       "    <tr style=\"text-align: right;\">\n",
       "      <th></th>\n",
       "      <th>0</th>\n",
       "      <th>1</th>\n",
       "      <th>2</th>\n",
       "      <th>3</th>\n",
       "      <th>4</th>\n",
       "      <th>5</th>\n",
       "      <th>6</th>\n",
       "      <th>7</th>\n",
       "      <th>8</th>\n",
       "      <th>9</th>\n",
       "      <th>10</th>\n",
       "      <th>11</th>\n",
       "      <th>12</th>\n",
       "      <th>13</th>\n",
       "      <th>password_type</th>\n",
       "    </tr>\n",
       "  </thead>\n",
       "  <tbody>\n",
       "    <tr>\n",
       "      <th>5000</th>\n",
       "      <td>L5&amp;)mq</td>\n",
       "      <td>e?x`t{t</td>\n",
       "      <td>)*t@TxQ</td>\n",
       "      <td>k1\\t&gt;&gt;x7&lt;4</td>\n",
       "      <td>8DP&gt;,5fmQm</td>\n",
       "      <td>7;k|)3ld$@f</td>\n",
       "      <td>W\\t*NU4lg7I+~</td>\n",
       "      <td>\\r/S+\\nO$(_1p{^</td>\n",
       "      <td>VLAHv{Xf9f0\u000b",
       "-Q</td>\n",
       "      <td>^fc)j%l u]4?20@</td>\n",
       "      <td>Sd,|{4{c&amp;dlj&lt;pw(</td>\n",
       "      <td>YW[HP\\n8[\"/^Y!)/xU</td>\n",
       "      <td>lMVN)G6:[[Mu7R8q3J</td>\n",
       "      <td>\\n?.T!a8Bx|%` OL.'ev</td>\n",
       "      <td>all_chars</td>\n",
       "    </tr>\n",
       "    <tr>\n",
       "      <th>5001</th>\n",
       "      <td>Qn__md</td>\n",
       "      <td>gY\\t^+\f",
       "(</td>\n",
       "      <td>:vHFN$m^</td>\n",
       "      <td>wN*-n&gt;_eu</td>\n",
       "      <td>,!7:\\r\f",
       "JkCG</td>\n",
       "      <td>91i&gt;_&lt;st7%E</td>\n",
       "      <td>&amp;&gt;\\n*}M-. ~W</td>\n",
       "      <td>+vQ@p$,`LiH=</td>\n",
       "      <td>Z}b(v[zp6j8\\rh</td>\n",
       "      <td>f:*8{jG\u000b",
       "N=&amp;:dB/</td>\n",
       "      <td>*Cr+(nr\\t^C{^N3kp</td>\n",
       "      <td>5~ p;h\"Y.\\tBoTzgdX</td>\n",
       "      <td>yuh=,fP[D\"`\\r6lU{nd</td>\n",
       "      <td>~J9\u000b",
       "PpipB;L&lt;\f",
       "/'T\"we</td>\n",
       "      <td>all_chars</td>\n",
       "    </tr>\n",
       "    <tr>\n",
       "      <th>5002</th>\n",
       "      <td>VlAS3q</td>\n",
       "      <td>&lt;,@W8#f</td>\n",
       "      <td>F{H9]GB'</td>\n",
       "      <td>dz{Ve7s:P</td>\n",
       "      <td>G_k&gt;L;IwTq</td>\n",
       "      <td>j)M{D|XL1|2</td>\n",
       "      <td>NyrJpH.n\f",
       "c\f",
       "M</td>\n",
       "      <td>$b%rLd#8+G%~F</td>\n",
       "      <td>#\f",
       "5Pa1:GHz8|aZ</td>\n",
       "      <td>Q17'4N'z@N*^23F</td>\n",
       "      <td>bV=bd00p]Oea&gt;4r8</td>\n",
       "      <td>.Mt!=sa'%D'\\H|rPj</td>\n",
       "      <td>u?\\nDa:G;wOsg_-\"C}R</td>\n",
       "      <td>mnNLc@Dkn0?6pSuGF+h</td>\n",
       "      <td>all_chars</td>\n",
       "    </tr>\n",
       "    <tr>\n",
       "      <th>5003</th>\n",
       "      <td>|B\u000b",
       "*!f</td>\n",
       "      <td>t}4fbvf</td>\n",
       "      <td>@O\\rV`C-\\r</td>\n",
       "      <td>MU*$QAr0T</td>\n",
       "      <td>#9(!p~c`-G</td>\n",
       "      <td>2AC6C/j.\"g</td>\n",
       "      <td>92pbLQv3]/2K</td>\n",
       "      <td>km:&amp;w-l!M^)r|</td>\n",
       "      <td>^TN*\\n(\\r:sETm[e</td>\n",
       "      <td>pfg\\n\\nd!!?\\rz.#pf</td>\n",
       "      <td>u}3$=w:Q&lt;(W5%X8Y</td>\n",
       "      <td>rB|3m&gt;y\\|KA9hE/MN</td>\n",
       "      <td>~9)y(YZI:|'WP|.@8s</td>\n",
       "      <td>[HK\u000b",
       "O{M\"&lt;&gt;vI.r=\\sZQ</td>\n",
       "      <td>all_chars</td>\n",
       "    </tr>\n",
       "    <tr>\n",
       "      <th>5004</th>\n",
       "      <td>YUSc[0</td>\n",
       "      <td>MU}!&gt;@c</td>\n",
       "      <td>@%x~atNz</td>\n",
       "      <td>3|eEeGLuw</td>\n",
       "      <td>EpKZ^t\u000b",
       "7`+</td>\n",
       "      <td>-\"ix=@\f",
       "z0))</td>\n",
       "      <td>oY1,KA9&gt;[Wr;</td>\n",
       "      <td>~[t?\u000b",
       "rpMr_@|;</td>\n",
       "      <td>9:H.90'HKKSi4K</td>\n",
       "      <td>(k5F(zWy/E`-Dwp</td>\n",
       "      <td>\\r!qo|p{aS0q&amp;\u000b",
       "|2t</td>\n",
       "      <td>{j:2Q:KJ5{*&lt;}M)ht</td>\n",
       "      <td>I!|zk9Mq?Wsz*Zx&lt;!C</td>\n",
       "      <td>_'&lt;fIO)2--$T`di&lt;L8</td>\n",
       "      <td>all_chars</td>\n",
       "    </tr>\n",
       "  </tbody>\n",
       "</table>\n",
       "</div>"
      ],
      "text/plain": [
       "           0         1           2           3            4            5  \\\n",
       "5000  L5&)mq   e?x`t{t    )*t@TxQ   k1\\t>>x7<4   8DP>,5fmQm  7;k|)3ld$@f   \n",
       "5001  Qn__md  gY\\t^+\n",
       "(    :vHFN$m^   wN*-n>_eu  ,!7:\\r\n",
       "JkCG  91i>_<st7%E   \n",
       "5002  VlAS3q   <,@W8#f    F{H9]GB'   dz{Ve7s:P   G_k>L;IwTq  j)M{D|XL1|2   \n",
       "5003  |B\n",
       "*!f   t}4fbvf  @O\\rV`C-\\r   MU*$QAr0T   #9(!p~c`-G   2AC6C/j.\"g   \n",
       "5004  YUSc[0   MU}!>@c    @%x~atNz   3|eEeGLuw   EpKZ^t\n",
       "7`+  -\"ix=@\n",
       "z0))   \n",
       "\n",
       "                  6                7                 8                   9  \\\n",
       "5000  W\\t*NU4lg7I+~  \\r/S+\\nO$(_1p{^    VLAHv{Xf9f0\n",
       "-Q     ^fc)j%l u]4?20@   \n",
       "5001   &>\\n*}M-. ~W     +vQ@p$,`LiH=   \n",
       "Z}b(v[zp6j8\\rh     f:*8{jG\n",
       "N=&:dB/   \n",
       "5002   NyrJpH.n\n",
       "c\n",
       "M    $b%rLd#8+G%~F    #\n",
       "5Pa1:GHz8|aZ     Q17'4N'z@N*^23F   \n",
       "5003   92pbLQv3]/2K    km:&w-l!M^)r|  ^TN*\\n(\\r:sETm[e  pfg\\n\\nd!!?\\rz.#pf   \n",
       "5004   oY1,KA9>[Wr;    ~[t?\n",
       "rpMr_@|;    9:H.90'HKKSi4K     (k5F(zWy/E`-Dwp   \n",
       "\n",
       "                     10                  11                   12  \\\n",
       "5000   Sd,|{4{c&dlj<pw(  YW[HP\\n8[\"/^Y!)/xU   lMVN)G6:[[Mu7R8q3J   \n",
       "5001  *Cr+(nr\\t^C{^N3kp  5~ p;h\"Y.\\tBoTzgdX  yuh=,fP[D\"`\\r6lU{nd   \n",
       "5002   bV=bd00p]Oea>4r8   .Mt!=sa'%D'\\H|rPj  u?\\nDa:G;wOsg_-\"C}R   \n",
       "5003   u}3$=w:Q<(W5%X8Y   rB|3m>y\\|KA9hE/MN   ~9)y(YZI:|'WP|.@8s   \n",
       "5004  \\r!qo|p{aS0q&\n",
       "|2t   {j:2Q:KJ5{*<}M)ht   I!|zk9Mq?Wsz*Zx<!C   \n",
       "\n",
       "                        13 password_type  \n",
       "5000  \\n?.T!a8Bx|%` OL.'ev     all_chars  \n",
       "5001   ~J9\n",
       "PpipB;L<\n",
       "/'T\"we     all_chars  \n",
       "5002   mnNLc@Dkn0?6pSuGF+h     all_chars  \n",
       "5003   [HK\n",
       "O{M\"<>vI.r=\\sZQ     all_chars  \n",
       "5004   \n",
       "_'<fIO)2--$T`di<L8     all_chars  "
      ]
     },
     "execution_count": 183,
     "metadata": {},
     "output_type": "execute_result"
    }
   ],
   "source": [
    "all_df = pd.concat([df_lowercase, df_uppercase, df_digits_only, df_punct_only, df_all_chars], ignore_index=True)\n",
    "all_df.tail(5)"
   ]
  },
  {
   "cell_type": "code",
   "execution_count": 162,
   "metadata": {},
   "outputs": [],
   "source": [
    "from zxcvbn import zxcvbn\n",
    "#estimating password strength and time to crack\n",
    "# link to library: https://github.com/dwolfhub/zxcvbn-python"
   ]
  },
  {
   "cell_type": "code",
   "execution_count": 201,
   "metadata": {},
   "outputs": [
    {
     "name": "stdout",
     "output_type": "stream",
     "text": [
      "0 3969\n"
     ]
    }
   ],
   "source": [
    "random_column = random.randint(0,13)\n",
    "random_row = random.randint(0,5005)\n",
    "#random_pw= all_df.loc[all_df[random_column] == str(random_row)]\n",
    "#random_pw\n",
    "print(random_column, random_row)"
   ]
  },
  {
   "cell_type": "code",
   "execution_count": 249,
   "metadata": {},
   "outputs": [],
   "source": [
    "results = zxcvbn(all_df[random_column].iloc[random_row])\n",
    "tests = [results]"
   ]
  },
  {
   "cell_type": "code",
   "execution_count": 240,
   "metadata": {},
   "outputs": [
    {
     "name": "stdout",
     "output_type": "stream",
     "text": [
      "How many characters should your password have?16\n"
     ]
    }
   ],
   "source": [
    "pw_chars = input('How many characters should your password have?')"
   ]
  },
  {
   "cell_type": "code",
   "execution_count": 241,
   "metadata": {},
   "outputs": [
    {
     "name": "stdout",
     "output_type": "stream",
     "text": [
      "This is your new passphrase: \"8/~p\\D4OJSKe$!_2\"\n"
     ]
    }
   ],
   "source": [
    "new_pw_chars = (pw_gen_all(int(pw_chars)))\n",
    "new_pw_chars = new_pw_chars\n",
    "print('This is your new passphrase:', '\"' + str(new_pw_chars)+ '\"')"
   ]
  },
  {
   "cell_type": "code",
   "execution_count": 242,
   "metadata": {},
   "outputs": [
    {
     "name": "stdout",
     "output_type": "stream",
     "text": [
      "How many words should your passphrase have?3\n"
     ]
    }
   ],
   "source": [
    "pw_words = input('How many words should your passphrase have?')"
   ]
  },
  {
   "cell_type": "code",
   "execution_count": 243,
   "metadata": {},
   "outputs": [
    {
     "name": "stdout",
     "output_type": "stream",
     "text": [
      "This is your new passphrase: \"anticommercially-self-sustenance\"\n"
     ]
    }
   ],
   "source": [
    "new_pw_words = (pw_gen_word(int(password_gen)))\n",
    "new_pw_words = new_pw_words\n",
    "print('This is your new passphrase:', '\"' + str(new_pw_words)+ '\"')"
   ]
  },
  {
   "cell_type": "code",
   "execution_count": 248,
   "metadata": {},
   "outputs": [
    {
     "name": "stdout",
     "output_type": "stream",
     "text": [
      "This is how long it will take to crack your password:\n",
      "12 days\n"
     ]
    }
   ],
   "source": [
    "print('This is how long it will take to crack your password:')\n",
    "pw_check = zxcvbn(new_pw_chars)\n",
    "print(pw_check['crack_times_display']['offline_fast_hashing_1e10_per_second'])"
   ]
  },
  {
   "cell_type": "code",
   "execution_count": 264,
   "metadata": {},
   "outputs": [],
   "source": [
    "import hashlib\n",
    "message = new_pw_chars.encode()\n",
    "hashed_pw = hashlib.sha256(message).hexdigest()\n",
    "five_chars = hashed_pw[:5]"
   ]
  },
  {
   "cell_type": "code",
   "execution_count": 265,
   "metadata": {},
   "outputs": [
    {
     "data": {
      "text/plain": [
       "'073c8'"
      ]
     },
     "execution_count": 265,
     "metadata": {},
     "output_type": "execute_result"
    }
   ],
   "source": [
    "five_chars"
   ]
  },
  {
   "cell_type": "code",
   "execution_count": 266,
   "metadata": {},
   "outputs": [
    {
     "data": {
      "text/plain": [
       "'073c8a90ddff2955335c68ee15a10071e3935d1ff1b31db1ec7b530c984cc86e'"
      ]
     },
     "execution_count": 266,
     "metadata": {},
     "output_type": "execute_result"
    }
   ],
   "source": [
    "hashed_pw"
   ]
  },
  {
   "cell_type": "code",
   "execution_count": 300,
   "metadata": {},
   "outputs": [
    {
     "name": "stdout",
     "output_type": "stream",
     "text": [
      "https://api.pwnedpasswords.com/range/073c8\n"
     ]
    },
    {
     "data": {
      "text/plain": [
       "b'003DFD95BD36F61F2461AA1AD88D77AA542:1\\r\\n004E9C405449D7DE306BFFC849940C0D123:1\\r\\n018F89380FA10A0EF3629B46942B6AC2660:1\\r\\n0270656F5CCC9755A57D003C12BA86342DE:1\\r\\n02A97171877D2F67783B614D6A40850A46B:2\\r\\n02F07A403CC7EBDB7EA803669087A6DFA14:2\\r\\n033ECE814CA53F8C7C6D9BFC8F95ED47AD0:3\\r\\n034F917F187E23145A45BB5FC03C32330C4:1\\r\\n04912C5B8FDD02C378CC58813C2B9E26124:2\\r\\n0522665002B46B0C99A111EF819AF272446:4\\r\\n062DFF620FFC6138926790BA78DDA8B2D4A:4\\r\\n0677273756366C1EA8DAD227C3644AC2FF4:5\\r\\n06A7426D5403C1F5B0EDD6912E24F5BF067:5\\r\\n06FE8E272BA12443B83A5B8D454A9B5A6FF:5\\r\\n07B6AA9FD2F8DFC1B2BC0950B384F3BED8E:1\\r\\n07E343A380430B411B0FCE1858157406335:4\\r\\n08197ABE93134439445A047FB183A45AA12:1\\r\\n0872CEA9404C1CE74303628A2AA989A6800:3\\r\\n089991E148DD1539948BEFCBE29C7932FB4:2\\r\\n09A07DED0D61D9AEBC1C1579335EAA399E5:2\\r\\n0ABF88B959CA2154A49187FEA3D5F3A1F1E:1\\r\\n0B29F793AB64D8774CC43C226618E1E5D51:2\\r\\n0C875E7E9648457CE63445C26A2129692DE:4\\r\\n0C8C54B411231A5A07509D6B8FBF7CD0D26:1\\r\\n0DD89A21A50ACA51E6F3938809F46E2F99F:1\\r\\n0E23D1C3AA0E9DC6E1E0DC35A4B39588C3C:1\\r\\n0FDB32646E6E95F19C01C5872E3EF0AF078:3\\r\\n100944F8F7CA945BD518B5D7EEF2DFFC542:3\\r\\n108BE077E2E48FE51BC7F3797DCAE050268:2\\r\\n128144E117730BA930009BB811FD4C6F410:2\\r\\n1292B07D6AD30A57E8E64C95C8825B6E524:1\\r\\n12C9C9AFA4ED93905779933603E98FAC0FF:1\\r\\n13ABB0BAC40F3E385599D0395C83B1265FF:1\\r\\n13C1DB2BDD9F77DFB19A67890D9B5BD3450:3\\r\\n13DCB1072F76F3DC42295731C47135405EE:1\\r\\n146AA0BF99151CD3868B265F8BBA4BB1904:202\\r\\n147908678DC4A37A0DED1C17F5D2E181C59:1\\r\\n14C5CAC53FFF4B70E0E942586D924D6FA0A:4\\r\\n1601A0462E49EC2639CD5439288F80D2E7D:1\\r\\n169C50D8D60FBC723719598610454FE761F:2\\r\\n16A7063FEEC582D7B93F9EA01E1A6101D5A:1\\r\\n170F2F4496D3C2898ABC2BF43E149CDA67F:23\\r\\n18A35A905AC151F5719EA658B49C1672EBD:3\\r\\n18F2B8F53C92ABE38C6B367B063F63A1E0C:2\\r\\n198893E5B219A9930AFCCBB8FE4AEE17ACA:1\\r\\n1A689A958BA316F9E7FE946B222476E4E28:6\\r\\n1AD399A482F076D5FB45F5A13EA8B1C768A:4\\r\\n1AEEC5F7F2F5A84B3B48F3260CE76FADC45:1\\r\\n1B84F83B106366929E0AD30F98926BA6101:1\\r\\n1B92494640D36B8A4478E28E09958F3D76F:2\\r\\n1CB7DF0B7FE3A64F638A2A18E701BAEFD4A:3\\r\\n1EBA497CE44C4AC0CE4412B84A9409B6182:1\\r\\n1ECA586773C4B73AA79913E9B07D7B1B95E:1\\r\\n1EE16A743D0D19ABAC456DC94BCAAF96A5F:2\\r\\n1F06206BDDFE9357708BCE6EEB510E1F4C5:1\\r\\n1FDF0E43A640301E0FFBEF95DF4AF645A94:1\\r\\n1FFE1F8739331B06DF4274376FC57BC610B:1\\r\\n208EC6CA92CBD40FB075447B2E572E72008:12\\r\\n219B7DF41D116D79B8EFD6341D74B814A7D:3\\r\\n21D89A35917ADDC2A471207C75B61EF3FB5:9\\r\\n22145AB795E8619D660DE4A8406ACE5FD8E:1\\r\\n224F01036E05D33D7B8F9F42D175D351959:1\\r\\n229BDBA4CA80A6FACAFBC0D981B631E39AF:2\\r\\n23A9BEA6995FB0D7EEFC4E8A68B8B17ECE8:9\\r\\n243BB7453A9F58E75DCD4014388088FE8B7:12\\r\\n24C4B54F14E3244D7F608D31A7B02D7D9EE:1\\r\\n2503D697B0C8CC03F5C1C04EDAA67A994A3:1\\r\\n255E7BCD0CF2751E8D72E8F8A1E653D1AE0:3\\r\\n25602624A4E626C261AADC37E77AAFFBAB8:3\\r\\n2642306EE3A4ADC413B7E32FEA636A5C420:4\\r\\n267813749CD9F0D6107D79E2CFA187D5455:1\\r\\n276CF50C73BE0709FABA9F3BA5FD68EF821:3\\r\\n277AEC4C7B097F825CF1DF5C46CA625EE45:2\\r\\n27ACE723B91367984B13B48EB62AD7C7E3D:2\\r\\n2800333744A6392358BD007D490DF555253:2\\r\\n2893EEA235ABDC5ED4D280DD4FD2214C5AC:2\\r\\n28DE6298C3BCB7BB31EE8867DB6288B13D3:2\\r\\n28FF1F5FE0375833B2423ECD8145B1D6187:2\\r\\n29180A4F10F1A2FD56178A0DD8AE7C52135:3\\r\\n29B5FBF6991E5C602342104A788A7FB7B55:2\\r\\n29DBAF208AB16531A83F9ECEB0F38A668E2:1\\r\\n29ED053C39800E8288BF58A208B5D4CB8D1:1\\r\\n29FB92350792FC951401CC7E2146868E0E1:1\\r\\n2A1DDCDBD81FDA8F4D34600BC5AD8061D50:3\\r\\n2AA6D62E20403A1855E27DAB411CB8ECD80:1\\r\\n2B271754851D2A9B05A909EB30F7AB244B5:2\\r\\n2BBC9B788207C237CB6E4DFD6860748B90B:3\\r\\n2BC7F7B7B768B50E9EC26E4CB10C0911C62:3\\r\\n2C833023120361FE7DA74E489579B6AB087:4\\r\\n2D71278CB2C947928BFBFE978B12AC08ED3:6\\r\\n2E8441E358865978E2FB405FFA991E3214E:2\\r\\n2FBC16E63DED0B1E30561BEE0C8F515887E:2\\r\\n3040AD24E4C2E702C1DC5030B1234FBB348:2\\r\\n30C942CDBAE5EA305AA6EC3F9FFEA09245D:2\\r\\n30E26B0155F566F11CD221900FA1A53113C:2\\r\\n30E74314BEDA17BF3CE3550DA62D85FA906:2\\r\\n31339AE97864BC0FCF983D50CA5ED97BE7D:1\\r\\n31802D878F4AA52862D630698B1BAEAB295:10\\r\\n31B217CFF23DFE4A9772392F9A69DB1E1CC:24\\r\\n32683C674347463D0ECCBFB1C989FE0400D:1\\r\\n3268BF03A0AAB2D45D046414B5053BA19AE:1\\r\\n328F084867DEE415771E4C68E0A2919E10B:18\\r\\n32E0B5F5DFE0B5683F6A4429DA188F630CF:2\\r\\n33DAAD894559C86DBE783BF72FABB6D446D:1\\r\\n3458E4846349FD051A6C67F44355A56F068:2\\r\\n35B63C910CBCC2CB85E189FF7823B592525:2\\r\\n35EA40A84400D1A6024FCBDAF4131786567:2\\r\\n362CEE420384566A3F72DDEA9DEC2383658:1\\r\\n36664B318FD825253448686DFE256FFF884:2\\r\\n367B256D84A9A5697B87123EC54D87DE526:1\\r\\n36BBDAAA5154DF2C1E30D66A93905CA4C89:1\\r\\n37BC6814ECAC2AB22CB7831F2AEFF9B61FB:3\\r\\n380E85C3738B73EEDDFF96BEBF12203B0AB:7\\r\\n38B2D28B1C243E956C7F065AA260CEC5AC8:1\\r\\n38EFDF436B66C794F767CDA600B27782B6E:2\\r\\n395CDF9C930467BB34483874DA3EF849B52:2\\r\\n398A66AA181BC68AE74829D33F1F1CF9C0A:5\\r\\n39D165417A83CA8F97C90D8674577010F39:2\\r\\n3AF9B3ACC27CA1D37612BB019359974A818:2\\r\\n3BAE05FCC6E023D75D88E30E0DCDD347DA7:3\\r\\n3C4B07F08DC3200858F10A758FE02AE1DD2:1\\r\\n3CCD051267794430C32787A2BA93EED3FCC:1\\r\\n3DA40197B29C71E4F15B1197DAF8DDEBC09:6\\r\\n3DBE85E8F85FF944E57C097DC2F049EA2A6:2\\r\\n3E928E62B39FAAEDD9EA9B0C8BACC7FDB81:1\\r\\n3F20151E9C51AA39AD09C8141D882D5400E:1\\r\\n3F97A07DE04C1B6015AB6FFB35974F42A2D:2\\r\\n3FFECCD3ACAAD44C2064377AB2940812C52:2\\r\\n402BA37358EC373ABBFB7799B18FF0B35DE:3\\r\\n40472BDE6FF56E0F379126CB427187FA1FE:1\\r\\n40AE2FA8712E133F5D80F974659A7B18F01:3\\r\\n40C0F550A788DC3CE518B82E989FEC93193:3\\r\\n41BD5824BB55E5E7F74AFF58F9B21410EDD:5\\r\\n41F884F0DD4B6D164599D765859011CB5F6:1\\r\\n42D6D997859890B131A0476AE2C1FD703B7:2\\r\\n431352D29F438875FF678BA54B86CEC101C:2\\r\\n436B229147F1C0D1AF22794C78560C047AE:1\\r\\n449AB73DCD3068E12597D88F86267D79524:1\\r\\n454BAB56E275D35A82F29CEC9748A5F834C:1\\r\\n454E1E8E4B305D42D350A91BBFBE05D6113:3\\r\\n45819014E4FF753919FFD21C7A5C8CD4CE0:2\\r\\n45F46D83F04D0B23AABD194D723F57E3DFF:3\\r\\n4742EE590BA67706EA8FEA87E1BC4F13386:2\\r\\n47EE859471A43A457DC5625DD5322545E5F:2\\r\\n47F7D9A7296875471E4FF4C115935C8CC51:6\\r\\n483C96567D51FAFEEE2D65E2D4D98ADFDD3:1\\r\\n4ACE10C61EFFC9D5A7908185DDE8A8D00CF:2\\r\\n4B3905668242F435298A6D4FD527BF64830:3\\r\\n4B479ACECE27DB73872AF58473F702EA400:3\\r\\n4B5CF745DB25FD6E8D92705FA052A06E250:3\\r\\n4BE6602C33D46A4AE0A7A25089F344C48E9:2\\r\\n4C72EA6A61AD9815A796BC40A0FF9CF3DFD:10\\r\\n4DCF576B22703505F372FC21E658665595D:3\\r\\n4EAFFDF24A76849AA38B9CA4FE6901A8B22:2\\r\\n4EE4A16C602F913BD49C5173555520C2116:1\\r\\n4F8BDCCC5105AF1A5D940F39D154EC7633A:28\\r\\n4FCC19849A6FB6F985F647B482EB045B5C2:2\\r\\n4FF77922BB52258BD50FF7AFC5237B6DB44:4\\r\\n506E6E4BD33469DE3FB4A130BB3CEF7B3C4:3\\r\\n509FB71C5CBA0263E807D73F637EABE770A:4\\r\\n50D3CB36BDCCF6F6A7C3B35010448B31BD4:2\\r\\n50F37D26A72B07E27B05C7ACE42B30D6D1F:2\\r\\n5118225774AEF7F42C44A3D54CAB46111DB:2\\r\\n524DE63A4442F5DD3FA9033C01B2B6BED59:2\\r\\n526601D0836DBCFFA639BB81FF0F5A42FEF:2\\r\\n54012BD0740D4CE7BD20D7CD385F7964920:3\\r\\n545EBA88F72929C9974A2682C5D2C975DF0:5\\r\\n548BC064B23D7581DF0BE39793C565045EB:1\\r\\n54ACEBFB8F7F1F1E1FB0200F4579A8CD452:1\\r\\n555B01A4779DE3A12E1FEA4D810EDC5DFF1:3\\r\\n55CCC88E8497A1845D38C32390FFE4E3A12:2\\r\\n55DB94A7B92B101A3D297ABF27769D55633:2\\r\\n562D19B051C899D17BA4423DD8CBAE04FA8:13\\r\\n59297CDC3D074A2672158BEA703C24D8CFF:2\\r\\n5A33EDF3D22777DFBC9C825850B56313E90:1\\r\\n5B46F0B9DC2E177A436ED32CCD432650F9D:3\\r\\n5B7B8BEA93C0B23D56BD6DC9786307743B7:1\\r\\n5C154BD3B7CF6E0C011554D72ACF580634D:1\\r\\n5C7DA52382B23B724D032CA440C2D0B98C0:1\\r\\n5CD9BB656DE97546DC3A24F1B220BD705DF:1\\r\\n5CE802ADAF1C16F590B009CE36EFFB509FE:1\\r\\n5D3A9C9C081EE8313B4140C97079D4AB866:1\\r\\n5DBF7A6A9ACCB433E1553C8E207FDF4BE85:1\\r\\n5E17C12D239EFBAC19D128FF438F8E10E8D:6\\r\\n5E1EC8C1969E3BA4F6E9EF23E3BECE46F31:12\\r\\n5E6B04039503459D9DAA484BE73C2D0592F:2\\r\\n5F0E20D01699FF0383845F245E324049686:3\\r\\n5F6D6BB907F97536EAB28930D99989D6A18:3\\r\\n5FE98C4935B0A852E038C76DBB8E6A20554:1\\r\\n5FEA3D1AF9B21D8A72013FC3A8A98468029:2\\r\\n600088F5076D86E8C9B606CE826CECD0721:1\\r\\n601E2F661125D89D5FE5E89A59E0B4E6E23:1\\r\\n627EC127686FCFDF93A6E5B0689EF8817DA:3\\r\\n635478674CB2E91BA1AD844E8386BCD2A41:3\\r\\n6368E1246B2B21AA1CFF610DE87C595A2E8:5\\r\\n63827B4DFE3414635180BAEB59F379C7C06:4\\r\\n63F50427D605B41F252259D38C318708E29:1\\r\\n643951AA75EABF0D7203BA62FD93A74E742:9\\r\\n65B8030E237F73FE3015A46969E3B2DC221:4\\r\\n665C2E86F71F439563A23FC1910F4DD3D4D:1\\r\\n67368CB0B0A44765562C68FAFC70FAC4E25:1\\r\\n674EC88500264523343389361ED07AEA359:3\\r\\n678E0FF07A724733544F373925A9908AEF2:5\\r\\n679FC254DE858E84F94BC86B823D99AA563:4\\r\\n68752199A7BE3031255A4F88BA7F48DD0A8:1\\r\\n68F8149CD692093E23C6C8B98809BB0981D:1\\r\\n6A324B13AACAEE1E4E7DF9B645E976C5841:4\\r\\n6A77F1323A53211FE935A2F514B58DA6960:2\\r\\n6B3897F5B7D2F1ACF15A4216ACABF5487E0:1\\r\\n6B5C5D1CA9C5F30C5BEE4EF0542A5B7C07E:2\\r\\n6B71D72D2B20F59C42CAEF86BC94EB14861:1\\r\\n6C07E3C66ED11DDE1D8636864CFA4126570:1\\r\\n6C1C40B501C9D71606308CF756FDF72F60B:2\\r\\n6C3E10E3B9FCDD2EBAEB1184BF50EB0D3C8:1\\r\\n6CB32949DEAEFA32AD98D5640C3E6F26533:6\\r\\n6E11527080236D8AC36077E683890305802:10\\r\\n6ECDD71FDB5A796F20E757378792A8FBADF:1\\r\\n6F38F3387B00FAA25989CF172A98D7B5EA0:1\\r\\n6FC5FD8430AB183D34CD82F8F2B635BCF4C:1\\r\\n7060F59CF7E7E02584EA1BAF733130D2E99:2\\r\\n70C1BA80030C65615C4FEFCEEF6A541896B:2\\r\\n70D9CADF1768D16B9C9D8BC508B7C02A74F:34\\r\\n7283ED7039A7802CC4F8CC36270668D1FDF:2\\r\\n7332042BD491221D3AD6AFE79CDC90BEAE2:1\\r\\n73C758FB0868B51BC2E5A4B6C60A18678D6:414\\r\\n73DEBE24A1B2A253FC7FC0EF953D4DD605D:1\\r\\n76FE8D56A3D5E0772199D9674DC8C888B8A:1\\r\\n776770942EDBD3C0F6E48F31870434A33C1:1\\r\\n7782475BD79CE4AE034CAB3802FF9C65A9B:3\\r\\n77B4351FE92836EBC4A953307188D5F9618:2\\r\\n77DB9BBBD66B1E9E509C3A285BF44715855:1\\r\\n78494D89248F102D086DA0A2C30E8482CCA:2\\r\\n7864647557480CA7680B31D712FBC814A49:1\\r\\n787B337733D2BF21D827B7F2762BAB391A4:14\\r\\n78E8F2EAECBF82CDEA056B9B263037D9D6A:4\\r\\n7987E874BCD23202C8BA6AE3B3B363D81C5:3\\r\\n79EF6DAC717DA5F91226B4105A57FFEF47C:1\\r\\n7A19B1F8B65F06B8C3B30EAA0069433CAAB:7\\r\\n7C287F8FF6B6E754D7AB1AD5409E6B54D66:6\\r\\n7D5685EA9B1D3DA189832A2678D994548C9:2\\r\\n7DD679EC96937F7566543302CED18673E59:2\\r\\n7E2D448E0F7C01960C9D428C7763BA2543B:1\\r\\n7E84E8987ABD4928967120AF38AD27552FA:5\\r\\n7EB52EE0065D83FAC63B493ED5CC8C0B541:10\\r\\n7F01AC38FD88DCAB547A6460CF74EB299E8:2\\r\\n7F04B62484CB5E5FDE15B21CA753385090A:2\\r\\n8035B99663F53F3684FA716FF546E20AE28:2\\r\\n822EB0A9DA712545B3E0AED55615F598F2E:6\\r\\n82D1639FA91125914EB81EFB26DE488F568:8\\r\\n83184C0169BA86D731572A3DC33475180FA:431\\r\\n8322C1885BB4B14DCE9C31BEE9A8A83FE4C:1\\r\\n83965785B172F29784CEB0F68FB8F18FAC0:2\\r\\n83D70E96CAF0366414D5400FC44FD77EB0D:1\\r\\n85DDE7B82850FB0F8BEA876E29EDE757CB0:4\\r\\n86163C17D97205CB40664095F1561816A7A:2\\r\\n86DE7B33C62937C246EFDF6D58CD4F20245:2\\r\\n8734997BC1903B31B502EC09A2ACAD9831D:9\\r\\n876A10315F9132BAC5421BE30D23A8C1F45:1\\r\\n890757874E291C077E5E6A0E09AA235010C:3\\r\\n89BEAD472123AB5DA49B6350C6E9BD51F7D:2\\r\\n89C547A79F561807A7106C1DBFB5B5EA3FC:4\\r\\n8A7C143249A00048E366CD19BFAD773D81F:1\\r\\n8A9EF8D9A73F4707F07F5C933ECA0CED8D0:2\\r\\n8B040F884C5D29B7D3B532DA0BD6634F3F8:1\\r\\n8B294675C17C337C71ECE7C5016508DC6FD:4\\r\\n8B5CF2FB00B3E905584EB078DFD0618F862:2\\r\\n8B8FCA5577EAE1096EAC592884406370554:2\\r\\n8C4A8C05C9269BF088243BB8C7935687EBE:1\\r\\n8C937341C057DF5C26A0FD6861108DAF3C5:3\\r\\n8CB35F6807F7FFF4C7F9608CBEDC08AB609:3\\r\\n8CDA94214288FFC0ABD56B1AF6E5E5AC516:4\\r\\n8D713FF7C8772E59A9BE4B9E57F5AFB1B32:2\\r\\n8D82DD81050FA7470F889B5057B1F15AFA2:2\\r\\n8DE09210B9D887757F34F1E66D00A21C1A2:11\\r\\n8E416B7B2AC0C253BE49DD324DBCE5F05D2:2\\r\\n8F5437E35A9020D5C1C24A8FB31D47239D5:2\\r\\n8FF04BEBDEC246D213941586A7D6750E89E:1\\r\\n903BDB35ECCBD39478626E98F54FD69E84A:6\\r\\n907DF480211FB9F2B5A804D054A6592AD5B:23\\r\\n90DEAD1879730284086C5361A76C03737E1:2\\r\\n90E4100BB6A4234775B40D77EAC35A14CE9:3\\r\\n910F120015B083BC96F41FAC89BB77459A0:1\\r\\n9123A1F189A20D8C0DC17F5C1C9B2F38A8E:3\\r\\n9210D66A9ACE976BEF3AD5B8D81CA440A54:11\\r\\n923FC2AE6396C12A8E3A435CC0BDCA0E443:1\\r\\n9299411A75A51EA6E14C33B786563E27D15:3\\r\\n9342F9C920F0621A407275D7A1343C1E80F:1\\r\\n93915E0C6109D8D07AE52DD6EE7E717A629:3\\r\\n946B96C9AC5D609E1EED5415047640808AB:3\\r\\n94877CDB516451E7B462B4A5A80F138A6BF:2\\r\\n94A3D21BB924E101B446977F47875FE0DCA:1\\r\\n955CE2FC383CA7D03E35A2C8D4C9CE4EB07:6\\r\\n957CC6CAA79A5F4A82113C6BC319A21CCF9:1\\r\\n96E3B2E4F71BE405EE2DD967D542D595643:3\\r\\n9801E8B2CC3656ACE807B872299E6F3105E:2\\r\\n983DFB0005D4880633A74CEB3386D91E266:1\\r\\n99CCC824E51A9F9B05A589B4057AA4AD531:1\\r\\n9A809C2021ACAEE53AF81F85F406C63B4E7:1\\r\\n9A82477B0096AAB73CBFF6A42F0134D32C1:1\\r\\n9AB30B6A8BCAD035FA37EAD312E22A5FA5C:1\\r\\n9C83CDE03A9C39BEDBD73DE45AE4C233B66:2\\r\\n9CBB6969D239694765DC1D21F02BC87F107:2\\r\\n9D673B41C1BD4AA61E69977D37B65267DE2:2\\r\\n9E514B139E6BC852FE6013734478286B2BA:99\\r\\n9F1B2702E783FC2760371CE4A5D65554FF7:1\\r\\n9FED31BF6C0C8D558CE5D43D245B8129399:5\\r\\n9FF464FF445D5BDFF5A426C6538FD0A5660:1\\r\\nA027B39AECB6837DBDBCF69395B84CC9577:1\\r\\nA044A906CCF61BA88D8DE98FA1818B711EB:2\\r\\nA27D5C2F67F11C2EC5E017249AB1962A654:1\\r\\nA378B114D6BF031A11D19D043725BEC9423:1\\r\\nA4023769B1EC04E6C98932CBD21B8B2497B:3\\r\\nA4FAF57BEA367C4DDD89CBD177092ADE623:3\\r\\nA5E6C7AD49C223C7629B6140B6CC0715B83:16\\r\\nA62418497ECC077BA0C7E9C86A731AE202C:3\\r\\nA62F4C31E24224DCE959E5ED0660EE0BE4E:2\\r\\nA6CFB34DCBF084AFD4C316D65B30EE3BF87:3\\r\\nA85EBB4D32520A08E816577F48F85B56FEA:1\\r\\nA8B5F22471C2AB4B15B05052D6A8669627A:6\\r\\nA9499B123BBB653EA904736952801FE43DD:3\\r\\nA955602B69DEE276DBFA04CEDD7C8476DAB:3\\r\\nAA666B41438E58F903914283A93CE7664F6:5\\r\\nABBCF3E03E4C8A1468AD657E3209231C443:4\\r\\nAC2C07342233B0D80C6184FBD5419F5EBD4:4\\r\\nAE1C4114D8C29CAAC3F8C3D10BD0B61221D:2\\r\\nAE3FAB9544C24B3CA73EBB4D7A89352EC1F:4\\r\\nAE59421F92E1EEF6FF07B8D778C5B607EBF:2\\r\\nAF896BF67A98B423EFFF5871DADB4B04EC9:7\\r\\nAFD8CED528C2084BF6844968D8AB118B60F:2\\r\\nB012284212090DB8990336EEE54BA4B3C55:2\\r\\nB047C63C4CB9D57D020DAA976DFDE283A11:3\\r\\nB0657B50889F3E548D5C4300FF51E2E49D4:2\\r\\nB0B81ED2898338CC286D57CE0220A31A0C2:1\\r\\nB106E93AA7398DA4BCBE3F0023C659F7994:23\\r\\nB1650B4ABE3A72CAB10CD66A0D711182CD6:2\\r\\nB28612C90C78228533105E8CCD6D4D129E9:2\\r\\nB3272415E98A37DE109F0D9E09DE3F7BB26:1\\r\\nB3E3812C782169D514A49F0EB8CEC3D3C87:2\\r\\nB431302FCBF5C9A3FA9C2C19D9BBDB11279:6\\r\\nB6B8AF8C8AE7C9F3790434D0A19EE457D8F:2\\r\\nB7064E82633F74328792F37FC74038DFC81:7\\r\\nB78504F97F2D55678B757E57E7017D45C22:1\\r\\nB8E13A17867BB34130DBFB5D7892120A9E3:4\\r\\nB93B70F77735960B5DF27D47B158DC8DD42:4\\r\\nBA53BC9A384466BD92B9CA7C874F7DEB9AC:6\\r\\nBA743B2F35A37D9598DA6DCC92CAA3556E5:2\\r\\nBB167159C59ADDA09B058060DCDA29F6EA2:2\\r\\nBB340D3F181527598E0DD80B754D08DCC02:5\\r\\nBB980340A8993B32A6A986760E49BE9D0E5:2\\r\\nBC355E8609D95028B02D729216311E370FB:1\\r\\nBC3D39A76D52C56AEBAD6AB0D54DAE373A3:20\\r\\nBC5EECDC4CFC5AE69979C938B4A4F749811:1\\r\\nBC95E4DF6595FDBAD892EC4DB11EC6FFCE4:1\\r\\nBC999EB4DEBFB04B4C74032689242709354:2\\r\\nBCF8E48E842C87ECAAB6BD7042E5F9A877C:11\\r\\nBD9DECC2C41489260444BF16FEAEF8D1084:1\\r\\nBDF16708D0CE3EBCCA66387381F9AF85A60:17\\r\\nBEDEDECE233A32D7218177AD1E7225E1751:5\\r\\nBF2D26B3628E6F1E0D755CD0253B5FB103A:1\\r\\nBF5C2D167C26C5C02E78515456EA28AC386:3\\r\\nBFFBCFF04F032A396D072056649040C8887:2\\r\\nC02B9A4BBCA4048A87397C844586F8A954C:2\\r\\nC0ADC9752F0F68893642877375197AD39C7:1\\r\\nC1008724012FF9382D5425117EBE01D2685:1\\r\\nC14B256774ADFEC2E208E612B8B0A8B46BA:2\\r\\nC14FD659DC04EF577C9B23D2D811BBAEE5E:2\\r\\nC1767AF9EBEF4A5D6A0CE676FA98CB3F1C7:1\\r\\nC3CF3EFEA4389A229496C707F421DD893ED:1\\r\\nC41B2675FB331269BC89298C2EB04DA65DB:2\\r\\nC4236D72CB22612F68985C746BB26642482:2\\r\\nC4951C4D220795E6921BCD4181D8DF1F8A4:1\\r\\nC4F4F6EDF45057D0A61162B12688F3AB0C6:2\\r\\nC513002F01F5BD057FF6A230D5D10B719F5:17\\r\\nC53318F77A8BD522D7FD0139C229974093F:5\\r\\nC5638B24495595BFD65896B3A666D9C86FC:5\\r\\nC69CF39345583E92212EC0BE84DB838AC61:1\\r\\nC6C309E88F05E614AF000C45B2A595BB31C:2\\r\\nC6EC9DF2FC04FA634F235093340A115C249:1\\r\\nC74CA4404063C1723569E89441C44D8BCD5:1\\r\\nC7CEF32AE2A7C659590AE8C3D39D1DC5730:14\\r\\nC7EA6302B404046E43A861A886FFD5DF539:2\\r\\nC7EF5EA200E2035579FA99ECFD53014417A:2\\r\\nC97EB7CA6513F9B5711532D3A34927F8F44:2\\r\\nCA730C4ED30784D7CF68C22540C467AF890:1\\r\\nCB7C546C2ED469E9ADE8D74FA6D6FA7C305:1\\r\\nCC9D1448E71E6E35EB3EBB5C0CCD830C2DE:3\\r\\nCCC52CBF3B9B016FBA90EC143C33592E450:1\\r\\nCCF1BA0CEBA536E9100553F30A054F199C0:3\\r\\nCDED64A2CCB0C0E946AD81DF36DC87B254D:3\\r\\nCE4110C646E69F22FCC383354E44B916475:1\\r\\nCEAE3ABBFFADE011ECA757A2F8E962B3C7C:3\\r\\nCEB68F6C3F36B0808A9BE514DF864894852:1\\r\\nCF2D6C73E4EFA66CA7440667007D33A1A9D:2\\r\\nCF376FCAD18B63185E7B75058890BB25BEF:4\\r\\nCF6CD4F77AE0A9667D07E10006F2F4673A6:1\\r\\nCFA96BE98A75E79BBDB5234DCC5868EC338:1\\r\\nD0645C51DAF5B6C182C18409BAC267E6D2C:15\\r\\nD19B55ABC79AAF7CD19393021C7366D45F7:1\\r\\nD1DC1013339136E1BD651CC50BE8179D12B:6\\r\\nD2AFD1862E864E8009F4C8309EBB980235B:1\\r\\nD2D427565F46EED0093E3A73EB1336957A0:2\\r\\nD3D4944F6CCA9393B0B5E994F79FAB0F646:4\\r\\nD3F9CE720D2C708F8153D07534352F37E39:2\\r\\nD475A8AFADF4E6E3D91CB6D72B78AB5E354:1\\r\\nD4FF37848B1AB1010CE5A5ED54C9AC071CA:4\\r\\nD5D3587784E198152855895CF44BDF04B45:2\\r\\nD69D8B89FA2D5561FA73B3A2C120A165189:3\\r\\nD6A0CBAF497F9CB3E78E461B92153CC333D:6\\r\\nD7668BABC17BB475F37E4167E57F18CF279:4\\r\\nD7820BAFD68B50D8224405A7EE6CF36C620:2\\r\\nD7E196C0A006D1703832C47844EC5974C1C:1\\r\\nD7E92B2473B0FEBC82A9421B4209B40A888:2\\r\\nD7F439A29092689061EE85FB869CBC22821:1\\r\\nD809AA77895EDA16955EBA46E47B810C037:1\\r\\nD9DF8E706F944B8F5A51198E9CE3E2F56B8:2\\r\\nDA12916F5C7E534174BEC2884F4C19C9C4D:2\\r\\nDB5C7242D20C330CD3EC0F9180356D05E35:1\\r\\nDBCEFCDFFE4A121FC294BED2A6869362238:3\\r\\nDBED907F9EAF130D8EE3707E3BA688E677E:2\\r\\nDBF733B4B90D0427FCD8D2A7D1A489D1652:2\\r\\nDC1EDEF96253CB67CE94CAC235D2853F156:2\\r\\nDC529054BCF62F4B18E42C78E141015D904:2\\r\\nDCD62D2DA2F6A51D6506C95459DBADA87E4:4\\r\\nDD27135178346CA94C51D2934E405DC56BB:5\\r\\nDD49B0709BE69536D715F1BE75D63B401D5:2\\r\\nDD753EC6075B9B8AB18E3BF3B54BF0FCFE1:3\\r\\nDE70A0F86D9E66F9F2799BD74F312376AA2:3\\r\\nDF0F091F4AEAE6B4F94CD1D26D9600A979B:2\\r\\nDF876B345A21D0FF9CF64BD9DCEF23CD65C:1\\r\\nDF8F20C60FD863134B734A744F072427FDF:1\\r\\nDFB01388289949B5188B59533B393615C99:2\\r\\nDFBCFE08A4B5059303A635FA6C0B7EFA213:5\\r\\nDFE2D07E8EFA8CF7CF2BDDCAA65A183349E:1\\r\\nE02DFF29AE3948A3C9340A62A445649F423:2\\r\\nE07132C6018C38D3E21F605D7CBD34E51E7:1\\r\\nE189FB7C06517ABCBE0F902B6B8D67B16FE:1\\r\\nE2D00EFB12C1B1FF135752F129DF4C3A36F:4\\r\\nE36B307FF1C21AAF3E57AD892648A46E39E:5\\r\\nE39DE666B17F6461BB10FC6121E9077DA0A:1\\r\\nE3E265815E88E7699FFC30140B1DEDD7600:3\\r\\nE47D6F9C788A68FEF504452DC6A426EB705:1\\r\\nE497D46FAA3041C3A893DACF70EFDE853A0:2\\r\\nE4FA0322041EB71D95EB596C9FDAA01E57C:1\\r\\nE53B07966BC211488B30B457341C7238D52:1\\r\\nE66E7262842124C5B2369431D3CFF8BA304:1\\r\\nE70C48A9DAB2FB77C8EA8691CA2D645B7FF:2\\r\\nE787E89485834D3A5AAF5DA83D9797B404E:1\\r\\nE7A53AB5E99C170E6C467B609B542E19D86:13\\r\\nE81B492DF05626DE02FBED3AA65BFBFAEFE:2\\r\\nE84A0A30B4289B7F1E45B25E029F0D8D6B8:7\\r\\nE86588E2F96A02FF377541D71E4160553FF:1\\r\\nE86C422F5CB1AF1D087A2492D3D3A6778EB:6\\r\\nE875498E89E2D60A1970B2AAC44A8B05C7C:2\\r\\nEAD2BE2339D7320048B1706F5B2982E742B:1\\r\\nEB26CC9E509C6007A661CE689BCC0C22991:54\\r\\nEB3E5459DE69FAE148167F21A0CD2CF59F5:1\\r\\nEB794D6AFC770317AC8E48BF5B7920ABB69:1\\r\\nEBAC756E7CAC82F42DDB10078E20B3A394D:3\\r\\nECE132C3A5601F9DB1C19E7E6CF3A1D3664:1\\r\\nECF9D3B2F572583B45A70C2F947F665BF18:2\\r\\nED01C0986137C4293A19C0C662671ABC751:1\\r\\nED7F04F7E9BF2D727A1DF7AF8845D254385:2\\r\\nEE8990B71F3C6C26324D393AD02F56C1129:1\\r\\nEEC0B25AB9D80B09B27C536D56C1E29632C:2\\r\\nEEDE119E814EEB4A848EA1792A5FA32F335:4\\r\\nEF78565DF6BEB58610431084211BC1554D5:1\\r\\nEF9889BC820E4E759AC151683F26581A316:1\\r\\nEFFB88A9A025B1F08175AA8FC9985579786:6\\r\\nF07C81B91BC1DF3E3B5A3D7925A3AAE8EDD:36\\r\\nF07E3A03AD41BD0EBB947BB50A8CCB1E20F:4\\r\\nF0882630B88E089DC0BCAF46695EB0387A9:2\\r\\nF12B0C9F1F088884BC1C6ADE3438A3A0724:2\\r\\nF1D945B82F766B70C41A8B6372ACC07253D:54\\r\\nF34926FBE369DA09019B5FF8D580D38BAF3:3\\r\\nF3E8A63F8945F6D77462FC4677A37410B1A:2\\r\\nF4A2886D616E4CD503285E6384F881ECFFD:1\\r\\nF4DF29845C74648A797D5717A18655EE3AE:4\\r\\nF55A2791EE531B0973FBB497F9C6E27A5A8:3\\r\\nF5F0EBA7A568BE03E7D3FBB4C7C59F581BF:5\\r\\nF6D23B5A66B8D7D0D44D800FBB56AAA90E8:15\\r\\nF887220D9640B87C4C5C9DF70DB4DA2C389:1\\r\\nF8CC5F4B119AE9FF472023167B0421C6450:4\\r\\nF8EF3D4EDD00724C14658B478C383ECBB9C:2\\r\\nF963DD26FB8A71752A8B231DF75FC05B0FB:3\\r\\nFA11B20DFFCEC2755486E0BEEBA20667022:2\\r\\nFBD88736B51F9F1E41C691FB165A86D1DCD:2\\r\\nFC332F960BAFDCCBEA495A02A4D7D920316:2\\r\\nFC3E241890F1DD3DC94ECB3455F67DD1DE8:5\\r\\nFD1957E88DA43C2A28B18B44855D68C54E7:2\\r\\nFF73A213C3392BE742471EA323FD46F4CE7:4\\r\\nFF73DFB668231AF8187684158FBDF3CF048:10\\r\\nFF9D25ABA7547E24D15871885B094DE54EF:2\\r\\nFFA9CE33A7C8585D23BA73AFE2C9DBE0BA9:2\\r\\nFFBDDC3D8EC559E245EBFACE3867B3A5650:1'"
      ]
     },
     "execution_count": 300,
     "metadata": {},
     "output_type": "execute_result"
    }
   ],
   "source": [
    "hibp_url = 'https://api.pwnedpasswords.com/range/' +five_chars\n",
    "print(hibp_url)\n",
    "response = requests.get(hibp_url)\n",
    "chars_found = response.content\n",
    "chars_found"
   ]
  },
  {
   "cell_type": "code",
   "execution_count": null,
   "metadata": {},
   "outputs": [],
   "source": []
  }
 ],
 "metadata": {
  "kernelspec": {
   "display_name": "Python 3",
   "language": "python",
   "name": "python3"
  },
  "language_info": {
   "codemirror_mode": {
    "name": "ipython",
    "version": 3
   },
   "file_extension": ".py",
   "mimetype": "text/x-python",
   "name": "python",
   "nbconvert_exporter": "python",
   "pygments_lexer": "ipython3",
   "version": "3.6.3"
  }
 },
 "nbformat": 4,
 "nbformat_minor": 2
}
